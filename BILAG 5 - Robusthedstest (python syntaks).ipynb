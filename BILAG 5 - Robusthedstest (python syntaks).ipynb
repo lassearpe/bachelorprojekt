{
 "cells": [
  {
   "cell_type": "markdown",
   "metadata": {},
   "source": [
    "# Robusthedstest. Vurdering af effekt på udelukkende på data fra 2021."
   ]
  },
  {
   "cell_type": "markdown",
   "metadata": {},
   "source": [
    "###### Note: Koden her er identisk med den fra den primære analyse. Den eneste forskel er, at jeg kun kører den på data fra 2021.\n",
    "\n",
    "Dette bilag vil redegøre for indsamlingen og analysen af robusthedstesten. \n",
    "\n",
    "Første af snit omhandler hvordan dataene er indsamlet. \n",
    "\n",
    "Herefter følges klargørelse og analyse.\n",
    "\n",
    "###### Centralt er to strategier i min dataklargørelse: \n",
    "1. Sørge for, at der kan skabes et aggregeret overblik over ord på tværs af jobannoncer (med stadig mulighed for sektoradskillelse)\n",
    "2. Sørge for, at hver jobannonce bevarer sin unikke kombination af ord\n"
   ]
  },
  {
   "cell_type": "code",
   "execution_count": null,
   "metadata": {},
   "outputs": [],
   "source": [
    "# NOTE TO SELF: SKRIV LIGE DATAPROCESSEN REN - HVOR DU I STEDET FOR AT GØRE DET TO GANGE, GØR DET ÉN GANG - \n",
    "# OG DELER OFFENTLIGE/PRIVAT SENERE I PROCESSEN"
   ]
  },
  {
   "cell_type": "code",
   "execution_count": 2,
   "metadata": {},
   "outputs": [],
   "source": [
    "# Dette er de forskellige udviklerpakker, som jeg bruger undervejs. Skal køres. \n",
    "from os import path\n",
    "from PIL import Image\n",
    "from wordcloud import WordCloud, STOPWORDS, ImageColorGenerator\n",
    "import pandas as pd\n",
    "import time\n",
    "import requests\n",
    "from bs4 import BeautifulSoup\n",
    "import matplotlib.pyplot as plt\n",
    "import nltk\n",
    "import string\n",
    "import lemmy\n",
    "import numpy\n",
    "import sys"
   ]
  },
  {
   "cell_type": "markdown",
   "metadata": {},
   "source": [
    "## Her skabes mit datasæt bestående af jobannoncer fra Jobindex "
   ]
  },
  {
   "cell_type": "code",
   "execution_count": 2,
   "metadata": {},
   "outputs": [],
   "source": [
    "# import pandas as pd\n",
    "# import time\n",
    "# import requests\n",
    "# from bs4 import BeautifulSoup\n",
    "\n",
    "# index = []\n",
    "# list_companies = []\n",
    "# beskrivelse_liste = []\n",
    "# antal_stjerner = []\n",
    "# month_list = []\n",
    "# year_list = []\n",
    "# day_list = []\n",
    "# url_liste = []\n",
    "# category_job = []\n",
    "\n",
    "# antal_sider = 1130\n",
    "\n",
    "# for j in range(1, antal_sider + 1):\n",
    "#     url = \"https://www.jobindex.dk/jobsoegning/kontor/jura?jobage=archive&maxdate=20211121&mindate=20050101&page={}&q=jurist+advokat\".format(j)\n",
    "#     result = requests.get(url)\n",
    "#     src = result.content\n",
    "#     soup = BeautifulSoup(src, 'html.parser')\n",
    "#     jobs = soup.find_all(\"div\", {\"class\": 'PaidJob'})\n",
    "\n",
    "\n",
    "#     # Kodning\n",
    "    \n",
    "#     for i, job in enumerate(jobs):\n",
    "        \n",
    "#         # Navnet på organisationen\n",
    "#         try:\n",
    "#             company = job.p.a.b.text\n",
    "#             list_companies.append(company)\n",
    "#         except:\n",
    "#             list_companies.append('NaN')\n",
    "\n",
    "#         # tekst fra kroppen af annoncen\n",
    "#         text = ''\n",
    "#         for p in job.find_all('p')[1:]:\n",
    "#             text += p.text\n",
    "\n",
    "#          # bulletpoints fra annoncen\n",
    "#         opgaver_liste = ''\n",
    "#         opgaver = job.find_all('li')\n",
    "\n",
    "\n",
    "#         for opgave in opgaver:\n",
    "#             if '\\n' not in opgave.text:\n",
    "                \n",
    "#                 text += opgave.text\n",
    "\n",
    "#         beskrivelse_liste.append(text)\n",
    "\n",
    "#         try: \n",
    "#             stjerner = job.find('span', {'class': 'sr-only'}).text.split()[0]\n",
    "#             antal_stjerner.append(stjerner)\n",
    "#         except:\n",
    "#             antal_stjerner.append('NaN')\n",
    "\n",
    "#         # data\n",
    "#         dato = str(job.find('time'))\n",
    "#         year = dato[16:20]\n",
    "#         month = dato[21:23]\n",
    "#         day = dato[24:26]\n",
    "\n",
    "#         month_list.append(month)\n",
    "#         year_list.append(year)\n",
    "#         day_list.append(day)\n",
    "\n",
    "#         link = job.find_all('a')[6]['href']\n",
    "#         url_liste.append(link)\n",
    "\n",
    "\n",
    "\n",
    "        \n",
    "#     time.sleep(2)\n",
    "    \n"
   ]
  },
  {
   "cell_type": "code",
   "execution_count": 3,
   "metadata": {},
   "outputs": [],
   "source": [
    "df = pd.DataFrame()"
   ]
  },
  {
   "cell_type": "code",
   "execution_count": 4,
   "metadata": {},
   "outputs": [
    {
     "name": "stderr",
     "output_type": "stream",
     "text": [
      "<ipython-input-4-68d20d33f58d>:1: DeprecationWarning: The default dtype for empty Series will be 'object' instead of 'float64' in a future version. Specify a dtype explicitly to silence this warning.\n",
      "  df['index'] = pd.Series(index)\n"
     ]
    }
   ],
   "source": [
    "df['index'] = pd.Series(index)\n",
    "df['company'] = pd.Series(list_companies)\n",
    "df['jobbeskrivelse'] = pd.Series(beskrivelse_liste)\n",
    "df['antal_stjerner'] = pd.Series(antal_stjerner)\n",
    "df['month'] = pd.Series(month_list)\n",
    "df['year'] = pd.Series(year_list)\n",
    "df['day'] = pd.Series(day_list)\n",
    "df['url'] = pd.Series(url_liste)"
   ]
  },
  {
   "cell_type": "code",
   "execution_count": 5,
   "metadata": {},
   "outputs": [
    {
     "data": {
      "text/plain": [
       "'BankInvest Gruppen'"
      ]
     },
     "execution_count": 5,
     "metadata": {},
     "output_type": "execute_result"
    }
   ],
   "source": [
    "df[\"company\"].iloc[10000]"
   ]
  },
  {
   "cell_type": "code",
   "execution_count": 6,
   "metadata": {},
   "outputs": [
    {
     "data": {
      "text/plain": [
       "'\\nVi søger en erfaren jurist til selvstændigt at give juridisk rådgivning til BankInvest Gruppens direktion og afdelinger og til at løse en række opgaver under overskriften ”legal risk management”, herunder arbejde med implementering af ny lovgivning. Du vil i vid udstrækning selv være med til at identificere relevante arbejdsopgaver. \\nDu vil indgå som en del af Legal Department, som ud over en chefjurist består af tre jurister/advokater samt to sekretærer. '"
      ]
     },
     "execution_count": 6,
     "metadata": {},
     "output_type": "execute_result"
    }
   ],
   "source": [
    "df[\"jobbeskrivelse\"].iloc[10000]"
   ]
  },
  {
   "cell_type": "code",
   "execution_count": 7,
   "metadata": {},
   "outputs": [
    {
     "data": {
      "text/plain": [
       "'2008'"
      ]
     },
     "execution_count": 7,
     "metadata": {},
     "output_type": "execute_result"
    }
   ],
   "source": [
    "df[\"year\"].iloc[10000]"
   ]
  },
  {
   "cell_type": "code",
   "execution_count": 324,
   "metadata": {},
   "outputs": [],
   "source": [
    "df.to_pickle(\"final_scraping.pkl\") # gemmer ovenstående dataframe til en pickle-fil"
   ]
  },
  {
   "cell_type": "markdown",
   "metadata": {},
   "source": [
    "## Her klargøres og opryddes datasættet"
   ]
  },
  {
   "cell_type": "code",
   "execution_count": 4,
   "metadata": {},
   "outputs": [
    {
     "data": {
      "text/plain": [
       "0                      Telenor\n",
       "1                   Alm. Brand\n",
       "2               Herlev Kommune\n",
       "3              Skattestyrelsen\n",
       "4                       PenSam\n",
       "                 ...          \n",
       "10418            SkandiaBanken\n",
       "10419       Realkredit Danmark\n",
       "10420                BRFkredit\n",
       "10421    Dansk Retursystem A/S\n",
       "10422              Banedanmark\n",
       "Name: company, Length: 10359, dtype: object"
      ]
     },
     "execution_count": 4,
     "metadata": {},
     "output_type": "execute_result"
    }
   ],
   "source": [
    "df = pd.read_pickle(\"final_scraping.pkl\") # indlæser pickle-fil\n",
    "\n",
    "df[\"company\"]"
   ]
  },
  {
   "cell_type": "markdown",
   "metadata": {},
   "source": [
    "#### Her frasorteres udenlandske annoncer:"
   ]
  },
  {
   "cell_type": "code",
   "execution_count": 5,
   "metadata": {},
   "outputs": [],
   "source": [
    "#Frasorter de engelske jobannoncer\n",
    "df['english'] = [0 if 'æ' in x or 'ø' in x or 'å' in x else 2 for x in df['jobbeskrivelse']]\n",
    "\n",
    "df = df[df.english != 2]\n"
   ]
  },
  {
   "cell_type": "markdown",
   "metadata": {},
   "source": [
    "#### Her kategoriseres offentlige jobannoncer, baseret på navnet på afsendervirksomheden:"
   ]
  },
  {
   "cell_type": "code",
   "execution_count": 43,
   "metadata": {},
   "outputs": [],
   "source": [
    "# Sorterer offentlige og private jobannoncer fra hinanden\n",
    "# offentlig er 1 og privat 0\n",
    "\n",
    "df['offentlig'] = [1 if 'Kommune' in x # først statslige myndigheder\n",
    "                   or 'kommune' in x\n",
    "                   or 'ministerie' in x \n",
    "                   or 'Ministerie' in x\n",
    "                   or 'minister' in x\n",
    "                   or 'styrelse' in x \n",
    "                   or 'Styrelse' in x \n",
    "                   or 'Region' in x\n",
    "                   or 'Staten' in x\n",
    "                   or 'myndighed' in x \n",
    "                   or 'Myndighed' in x\n",
    "                   or 'tilsyn' in x \n",
    "                   or 'Politi' in x \n",
    "                   or 'politi' in x \n",
    "                   or 'Forsvaret'in x\n",
    "                   or 'DR' in x\n",
    "                   or 'Banedanmark' in x\n",
    "                   or 'Retten' in x\n",
    "                   or 'Grønland' in x\n",
    "                   or 'Selvstyre' in x\n",
    "                   or 'Kriminalforsorgen'in x\n",
    "                   or 'Statens IT' in x\n",
    "                   or 'Danmarks Statistik' in x\n",
    "                   or 'Sundhed.dk' in x\n",
    "                   or 'Bibliotek' in x\n",
    "                   or 'SKAT' in x\n",
    "                   or 'Jobcenter' in x\n",
    "                   or 'Hjemmeværnskommandoen' in x\n",
    "                   or 'Statsforvaltningen' in x\n",
    "                   or 'Nationalbank' in x\n",
    "                   or 'Vejdirektoratet' in x\n",
    "                   # under beskæftigelsesministeriet\n",
    "                   or 'ATP' in x\n",
    "                   or 'Arbejdsmarkedets Erhvervssikring' in x\n",
    "                   # herefter uddannelsesinstitutioner\n",
    "                   or 'Profession' in x\n",
    "                   or 'Universitet'in x\n",
    "                   or 'Copenhagen Business School' in x\n",
    "                   or 'University College' in x\n",
    "                   or 'Erhvervsskolen Nordsjælland' in x\n",
    "                   or 'Erhvervsakademi' in x\n",
    "                   or 'UC Syd' in x\n",
    "                   or 'College' in x \n",
    "                   or 'Hotel- og Restaurantskolen' in x\n",
    "                   or 'Kongelige' in x\n",
    "                   or 'SIMAC' in x\n",
    "                   # herefter råd og nævn\n",
    "                   or 'Det Etiske Råd' in x\n",
    "                   or 'Patienterstatningen' in x\n",
    "                   or 'Nævn' in x\n",
    "                   or 'nævn' in x\n",
    "                   or 'Den Nationale Klageinstans mod Mobning' in x\n",
    "                   or 'Rigsadvokaten' in x\n",
    "                   or 'Rigsombudsmanden i Grønland' in x\n",
    "                   or 'Den Europæiske Union' in x\n",
    "                   or 'Nævnenes Hus' in x\n",
    "                   or 'Dansk Varefakta Nævn' in x\n",
    "                   # herefter statslige selskaber med fuld aktiemajoritet\n",
    "                   or 'DSB' in x\n",
    "                   or 'Vækstfonden' in x\n",
    "                   or 'EKF Danmarks Eksportkredit' in x\n",
    "                   or 'Finansiel Stabilitet' in x\n",
    "                   or 'Investeringsfonden for udviklingslande (IFU)' in x\n",
    "                   or 'Naviair' in x\n",
    "                   or 'Evida' in x\n",
    "                   or 'Sund & Bælt Holding A/S' in x\n",
    "                   or 'Eksport Kredit Fonden' in x\n",
    "                   or 'Nationalt Genom Center' in x\n",
    "                   or 'Københavns Tekniske Skole' in x\n",
    "                   or 'Energinet' in x\n",
    "                   or \"TV 2\" in x\n",
    "                   or \"Nordsøenheden\" in x\n",
    "                   or \"Bornholmstrafikken Holding A/S\" in x\n",
    "                   or \"Danpilot\" in x\n",
    "                   or \"Statens Ejendomssalg A/S\" in x\n",
    "                   or \"Det Danske Klasselotteri A/S\" in x\n",
    "                   \n",
    "                   \n",
    "                   \n",
    "                   else 0\n",
    "\n",
    "for x in df['company']]\n",
    "\n",
    "# Jeg bliver dog nød til at manuelt korregere fejl, som fx dette firma der er blevet klassificeret som offentlig grundet søgning efter \"DR\".\n",
    "\n",
    "df.loc[df.company == \"DRACHMANN ADVOKATER\", 'offentlig'] = 0\n",
    "df.loc[df.company == \"DRACHMANN EJENDOMSADMINISTRATION A/S\", 'offentlig'] = 0\n",
    "\n",
    "# df.loc[df['offentlig'] == 1][500:550].head(30)\n",
    "\n"
   ]
  },
  {
   "cell_type": "markdown",
   "metadata": {},
   "source": [
    "#### Her vurderes fordelingen af jobbeskrivelser på år. Jeg laver desuden et alternativt datasæt kun med observationer fra 2021."
   ]
  },
  {
   "cell_type": "code",
   "execution_count": 44,
   "metadata": {},
   "outputs": [
    {
     "name": "stdout",
     "output_type": "stream",
     "text": [
      "1540\n",
      "1    872\n",
      "0    668\n",
      "Name: offentlig, dtype: int64\n"
     ]
    }
   ],
   "source": [
    "# finder fordelingen af annoncer baseret på årstal\n",
    "\n",
    "print(len(df[df['year'].str.contains(\"2021\")]))\n",
    "\n",
    "# alternativt datasæt for at måle robusthed (fjerner år 2007-2020)\n",
    "df = df[~df.year.str.contains(\"2007|2008|2009|2010|2011|2012|2013|2014|2015|2016|2017|2018|2019|2020\")]\n",
    "\n",
    "# fordelingen af offentlige og private annoncer i 2021\n",
    "\n",
    "print(df[df['year'].str.contains(\"2021\")].offentlig.value_counts())"
   ]
  },
  {
   "cell_type": "markdown",
   "metadata": {},
   "source": [
    "#### Fordelinger af virksomheder baseret på sektortype:"
   ]
  },
  {
   "cell_type": "code",
   "execution_count": 46,
   "metadata": {},
   "outputs": [
    {
     "data": {
      "text/plain": [
       "1    872\n",
       "0    668\n",
       "Name: offentlig, dtype: int64"
      ]
     },
     "execution_count": 46,
     "metadata": {},
     "output_type": "execute_result"
    }
   ],
   "source": [
    "# Hvor mange virksomheder fremfår fra det private og fra det offentlige?\n",
    "# HUSK PRIVAT ER 0 og OFFENTLIG ER 1\n",
    "\n",
    "df['offentlig'].value_counts()"
   ]
  },
  {
   "cell_type": "code",
   "execution_count": 66,
   "metadata": {},
   "outputs": [],
   "source": [
    "# vurder, om du skal fjerne nogle år..."
   ]
  },
  {
   "cell_type": "code",
   "execution_count": 106,
   "metadata": {
    "scrolled": false
   },
   "outputs": [
    {
     "name": "stdout",
     "output_type": "stream",
     "text": [
      "There are 1540 observations and 10 features in this dataset. \n",
      "\n"
     ]
    }
   ],
   "source": [
    "print(\"There are {} observations and {} features in this dataset. \\n\".format(df.shape[0],df.shape[1]))"
   ]
  },
  {
   "cell_type": "code",
   "execution_count": 10,
   "metadata": {},
   "outputs": [],
   "source": [
    "# opdeling af datasæt i privat og offentlig karakter\n",
    "offentlig_data = df.loc[df['offentlig'] == 1]\n",
    "privat_data = df.loc[df['offentlig'] == 0]\n",
    "\n",
    "# fokus på de pågældende jobbeskrivelser (overvej, om du stadigvæk vil bibeholde firmanavnet her?)\n",
    "offentlig_text = offentlig_data.jobbeskrivelse\n",
    "privat_text = privat_data.jobbeskrivelse\n",
    "\n",
    "# lav en stor, som ikke adskiller de i sektorer (endnu)\n",
    "all_text = df.jobbeskrivelse"
   ]
  },
  {
   "cell_type": "markdown",
   "metadata": {},
   "source": [
    "#### Fordelingen af unikke virksomheder på sektor: "
   ]
  },
  {
   "cell_type": "code",
   "execution_count": 47,
   "metadata": {},
   "outputs": [],
   "source": [
    "# Skaber en liste over alle virksomheder i datasættet - delt op i privat og offentlig\n",
    "# numpy.set_printoptions(threshold=sys.maxsize)\n",
    "\n",
    "# df['company'].unique().tolist()\n",
    "\n",
    "off_virk = offentlig_data['company'].unique().tolist()\n",
    "\n",
    "priv_virk = privat_data['company'].unique().tolist()\n"
   ]
  },
  {
   "cell_type": "markdown",
   "metadata": {},
   "source": [
    "#### (1) Her gøres min data til to forskellige sammenhængende lister af ord for hhv. den offentlige og private sektor. "
   ]
  },
  {
   "cell_type": "code",
   "execution_count": 13,
   "metadata": {},
   "outputs": [],
   "source": [
    "# skaber den sammenhængende text \n",
    "# husk at få fjernet \\n\n",
    "\n",
    "offentlig_sammenhæng_text = \" \".join(job for job in offentlig_data.jobbeskrivelse)\n",
    "privat_sammenhæng_text = \" \".join(job for job in privat_data.jobbeskrivelse)\n",
    "\n",
    "# gør alt tekst til små bogstaver\n",
    "\n",
    "privat_små = \\\n",
    "     privat_sammenhæng_text.lower()\n",
    "     #.replace(\".\",\"\").replace(\",\",\"\").replace(\"\\n\", \" \").replace(\"-\")\n",
    "\n",
    "offentlig_små = offentlig_sammenhæng_text.lower()\n",
    "    #.replace(\".\",\"\").replace(\",\",\"\").replace(\"\\n\", \" \")\n",
    "\n",
    "# fjerner tegnsætning og tal\n",
    "\n",
    "offentlig_u_tegnsætning = offentlig_små.translate(str.maketrans('', '', string.punctuation))\n",
    "offentlig_clean = offentlig_u_tegnsætning.translate(str.maketrans('', '', string.digits))\n",
    "\n",
    "privat_u_tegnsætning = privat_små.translate(str.maketrans('', '', string.punctuation))\n",
    "privat_clean = privat_u_tegnsætning.translate(str.maketrans('', '', string.digits))\n",
    "\n"
   ]
  },
  {
   "cell_type": "code",
   "execution_count": 14,
   "metadata": {
    "scrolled": false
   },
   "outputs": [],
   "source": [
    "# fjerner stopwords\n",
    "stop_words  =\\\n",
    "    requests\\\n",
    "        .get(\"https://gist.githubusercontent.com/berteltorp/0cf8a0c7afea7f25ed754f24cfc2467b/raw/305d8e3930cc419e909d49d4b489c9773f75b2d6/stopord.txt\")\\\n",
    "        .text \\\n",
    "        .split()\n",
    "\n",
    "\n",
    "# manuel liste af stopwords\n",
    "stop_words_manual = [\"–\", \"mv\", \"”\", \"’\", \"bla\",\"'\",\"-\"]\n",
    "\n",
    "stop_words.extend(stop_words_manual)\n",
    "\n"
   ]
  },
  {
   "cell_type": "code",
   "execution_count": 30,
   "metadata": {},
   "outputs": [],
   "source": [
    "# hvor mange ord er der i alt?\n",
    "# print (\"There are {} words in the combination of all review.\".format(len(privat_tokens)))\n",
    "# print (\"There are {} words in the combination of all review.\".format(len(offentlig_tokens)))"
   ]
  },
  {
   "cell_type": "code",
   "execution_count": 15,
   "metadata": {},
   "outputs": [],
   "source": [
    "# her skabes min lemmatizer\n",
    "lemmatize =\\\n",
    "    lambda word: lemmy\\\n",
    "        .load(\"da\")\\\n",
    "        .lemmatize(\"\", word)[0]"
   ]
  },
  {
   "cell_type": "code",
   "execution_count": 16,
   "metadata": {},
   "outputs": [],
   "source": [
    "# FÆRDIG MED AT LAVE TO FORSKELLIGE ORD-LISTER UDEN SKELNING TIL UNIKKE JOBANNONCER \n",
    "\n",
    "#Her laver du Tokenization og Lemmatization\n",
    "\n",
    "# Tokenization (og stop words)\n",
    "\n",
    "privat_tokens = [word for word in nltk.word_tokenize(privat_clean) if word not in stop_words]\n",
    "\n",
    "offentlig_tokens = [word for word in nltk.word_tokenize(offentlig_clean) if word not in stop_words]\n",
    "\n",
    "# Lemmatization\n",
    "\n",
    "privat_done_fluid = [lemmatize(word) for word in privat_tokens]\n",
    "\n",
    "offentlig_done_fluid = [lemmatize(word) for word in offentlig_tokens]\n"
   ]
  },
  {
   "cell_type": "markdown",
   "metadata": {},
   "source": [
    "#### (2) Herunder skaber jeg et datasæt hvori de unikke jobannoncer kan identificeres. Dette gør, at jeg fx kan finde en procentandel af brugen af PSM:"
   ]
  },
  {
   "cell_type": "code",
   "execution_count": 48,
   "metadata": {},
   "outputs": [],
   "source": [
    "# Her skabes en analyerbar version af hele datamaterialet, samlet. \n",
    "\n",
    "#gjort små og fjerner \\n\n",
    "text_små = \\\n",
    "     all_text.str.lower().str.replace(\"\\n\", \" \")\n",
    "\n",
    "# # fjerner tegnsætning og tal\n",
    "text_u_tegnsætning = text_små.str.translate(str.maketrans('', '', string.punctuation))\n",
    "text_clean = text_u_tegnsætning.str.translate(str.maketrans('', '', string.digits))\n",
    "\n",
    "# # fjerner stop words\n",
    "text_u_stop = text_clean.apply(lambda x: ' '.join([word for word in x.split() if word not in (stop_words)]))\n",
    "\n",
    "# # Tokenization\n",
    "text_tokens = text_u_stop.apply(nltk.word_tokenize)\n",
    "\n",
    "# # Lemmatization \n",
    "text_done = text_tokens.apply(lambda lst:[lemmatize(word) for word in lst])\n",
    "\n",
    "df_done = pd.concat([df.company, text_done, df.offentlig], axis=1)\n",
    "           "
   ]
  },
  {
   "cell_type": "code",
   "execution_count": 49,
   "metadata": {},
   "outputs": [],
   "source": [
    "# deler vores df_done op i hhv. private og offentlige beskrivelser\n",
    "\n",
    "privat_done = df_done[df_done[\"offentlig\"]==0]\n",
    "offentlig_done = df_done[df_done[\"offentlig\"]==1]\n"
   ]
  },
  {
   "cell_type": "code",
   "execution_count": 50,
   "metadata": {
    "scrolled": true
   },
   "outputs": [
    {
     "data": {
      "text/plain": [
       "668"
      ]
     },
     "execution_count": 50,
     "metadata": {},
     "output_type": "execute_result"
    }
   ],
   "source": [
    "# den fulde df uden ovenstående sample\n",
    "# df_done_final = df_done[~df_done.index.isin(df_sample.index)] OBS - DETTE ER GJORT FOROVEN\n",
    "\n",
    "samlet_antal_off = len(df.loc[df['offentlig'] == 1])\n",
    "samlet_antal_priv = len(df.loc[df['offentlig'] == 0])\n",
    "\n",
    "# husk - det endelige datasæt på 10255?\n",
    "samlet_antal_priv"
   ]
  },
  {
   "cell_type": "markdown",
   "metadata": {},
   "source": [
    "### Søge sekventielt efter forekomsten af ord (PSM-indikatorer): "
   ]
  },
  {
   "cell_type": "code",
   "execution_count": 20,
   "metadata": {},
   "outputs": [],
   "source": [
    "# Vi vil gerne kunne se alle ord i cellerne\n",
    "pd.set_option('display.max_colwidth', None)\n"
   ]
  },
  {
   "cell_type": "code",
   "execution_count": 41,
   "metadata": {},
   "outputs": [],
   "source": [
    "# søge efter et ord\n",
    "\n",
    "# df_done[df_done['jobbeskrivelse'].astype(str).str.contains(\"løn\")]"
   ]
  },
  {
   "cell_type": "markdown",
   "metadata": {},
   "source": [
    "#### Attraction to public policy making:"
   ]
  },
  {
   "cell_type": "code",
   "execution_count": 51,
   "metadata": {},
   "outputs": [
    {
     "name": "stdout",
     "output_type": "stream",
     "text": [
      "Den offentlige procentandel:\n",
      "41.51376146788991\n",
      "Den private procentandel:\n",
      "24.550898203592812\n"
     ]
    }
   ],
   "source": [
    "# Attraction to public policy making\n",
    "# fortolke dele\n",
    "\n",
    "#overvej om denne dimemsion er lidt for bredt defineret i din ordbog\n",
    "\n",
    "verber_adjektiver_atp = \"skabe|fortolke|dele|tilhøre|tilfredsstille|gavne|involvere|interessere|politisk|attraktiv|bryde|lide|høj\"\n",
    "substantiver_atp = \"lov|land|fællesskab|holdning|program|gavn|menneske|politik|politisk|spil|tanke\"\n",
    "\n",
    "\n",
    "#Den første søgning efter verber og adjektiver\n",
    "verber_adjektiver_atp_off = offentlig_done[offentlig_done['jobbeskrivelse'].astype(str).str.contains(verber_adjektiver_atp)]\n",
    "verber_adjektiver_atp_priv = privat_done[privat_done['jobbeskrivelse'].astype(str).str.contains(verber_adjektiver_atp)]\n",
    "\n",
    "#sekventiel søgning efter substantiver\n",
    "alle_ordklasser_atp_off = verber_adjektiver_atp_off[verber_adjektiver_atp_off['jobbeskrivelse'].astype(str).str.contains(substantiver_atp)]\n",
    "alle_ordklasser_atp_priv = verber_adjektiver_atp_priv[verber_adjektiver_atp_priv['jobbeskrivelse'].astype(str).str.contains(substantiver_atp)]\n",
    "\n",
    "#udregner den offentlige andel\n",
    "quotient = len(alle_ordklasser_atp_off) / samlet_antal_off \n",
    "\n",
    "percent = quotient * 100\n",
    "\n",
    "print(\"Den offentlige procentandel:\")\n",
    "print(percent)\n",
    "\n",
    "#udregner den private andel\n",
    "quotient = len(alle_ordklasser_atp_priv) / samlet_antal_priv\n",
    "\n",
    "percent = quotient * 100\n",
    "\n",
    "print(\"Den private procentandel:\")\n",
    "print(percent)\n",
    "\n",
    "# her indsættes attraction to public policy i df'en som binær-variabel\n",
    "atp_index = [i for i in alle_ordklasser_atp_off.index]\n",
    "atp_index.extend([i for i in alle_ordklasser_atp_priv.index])\n",
    "\n",
    "df_done['ATP'] = df_done.index.map(lambda x : 1 if x in atp_index else 0)\n"
   ]
  },
  {
   "cell_type": "markdown",
   "metadata": {},
   "source": [
    "#### Commitment to the public interest:"
   ]
  },
  {
   "cell_type": "code",
   "execution_count": 52,
   "metadata": {},
   "outputs": [
    {
     "name": "stdout",
     "output_type": "stream",
     "text": [
      "Den offentlige procentandel:\n",
      "23.394495412844037\n",
      "Den private procentandel:\n",
      "12.125748502994012\n"
     ]
    }
   ],
   "source": [
    "# commitment to public interest\n",
    "\n",
    "verber_adjektiver_cpi = \"bidrage|gavne|tjene|god|meningsfuld|vigtig|uselvisk|fælles|hel\"\n",
    "\n",
    "substantiver_cpi = \"borger|pligt|samfund|dyd|interesse|ydelse|ansat\"\n",
    "\n",
    "# Den første søgning efter verber og adjektiver blandt hhv. offentlig og private jobbeskrivelser\n",
    "verber_adjektiver_cpi_off = offentlig_done[offentlig_done['jobbeskrivelse'].astype(str).str.contains(verber_adjektiver_cpi)]\n",
    "verber_adjektiver_cpi_priv = privat_done[privat_done['jobbeskrivelse'].astype(str).str.contains(verber_adjektiver_cpi)]\n",
    "\n",
    "# sekventiel søgning efter substantiver i det netop fremsøgte materiale\n",
    "alle_ordklasser_cpi_off = verber_adjektiver_cpi_off[verber_adjektiver_cpi_off['jobbeskrivelse'].astype(str).str.contains(substantiver_cpi)]\n",
    "alle_ordklasser_cpi_priv = verber_adjektiver_cpi_priv[verber_adjektiver_cpi_priv['jobbeskrivelse'].astype(str).str.contains(substantiver_cpi)]\n",
    "\n",
    "#udregner den offentlige andel\n",
    "quotient = len(alle_ordklasser_cpi_off) / samlet_antal_off \n",
    "\n",
    "percent = quotient * 100\n",
    "\n",
    "print(\"Den offentlige procentandel:\")\n",
    "print(percent)\n",
    "\n",
    "#udregner den private andel\n",
    "quotient = len(alle_ordklasser_cpi_priv) / samlet_antal_priv\n",
    "\n",
    "percent = quotient * 100\n",
    "\n",
    "print(\"Den private procentandel:\")\n",
    "print(percent)\n",
    "\n",
    "# her indsættes commitment to public interest i datasættet som binær variabel\n",
    "cpi_index = [i for i in alle_ordklasser_cpi_off.index]\n",
    "cpi_index.extend([i for i in alle_ordklasser_cpi_priv.index])\n",
    "\n",
    "df_done['CPI'] = df_done.index.map(lambda x : 1 if x in cpi_index else 0)\n",
    "\n",
    "# df_done[df_done['CPI']==1]"
   ]
  },
  {
   "cell_type": "markdown",
   "metadata": {},
   "source": [
    "#### Compassion: "
   ]
  },
  {
   "cell_type": "code",
   "execution_count": 53,
   "metadata": {},
   "outputs": [
    {
     "name": "stdout",
     "output_type": "stream",
     "text": [
      "Den offentlige procentandel:\n",
      "6.536697247706422\n",
      "Den private procentandel:\n",
      "2.245508982035928\n"
     ]
    }
   ],
   "source": [
    "# compassion\n",
    "\n",
    "\n",
    "verber_adjektiver_com = \"blive|føle|behandle|følelsesmæssig|berørt|følsom|afhængig|retfærdig|mindre\"\n",
    "substantiver_com = \"nød|sympati|afhængig|menneske|hensyn|velfærd|problem|fremmed|medfølelse|privilegie\"\n",
    "\n",
    "# Den første søgning efter verber og adjektiver blandt hhv. offentlig og private jobbeskrivelser\n",
    "verber_adjektiver_com_off = offentlig_done[offentlig_done['jobbeskrivelse'].astype(str).str.contains(verber_adjektiver_com)]\n",
    "verber_adjektiver_com_priv = privat_done[privat_done['jobbeskrivelse'].astype(str).str.contains(verber_adjektiver_com)]\n",
    "\n",
    "# sekventiel søgning efter substantiver i det netop fremsøgte materiale\n",
    "alle_ordklasser_com_off = verber_adjektiver_com_off[verber_adjektiver_com_off['jobbeskrivelse'].astype(str).str.contains(substantiver_com)]\n",
    "alle_ordklasser_com_priv = verber_adjektiver_com_priv[verber_adjektiver_com_priv['jobbeskrivelse'].astype(str).str.contains(substantiver_com)]\n",
    "\n",
    "#udregner den offentlige andel\n",
    "quotient = len(alle_ordklasser_com_off) / samlet_antal_off \n",
    "\n",
    "percent = quotient * 100\n",
    "\n",
    "print(\"Den offentlige procentandel:\")\n",
    "print(percent)\n",
    "\n",
    "#udregner den private andel\n",
    "quotient = len(alle_ordklasser_com_priv) / samlet_antal_priv\n",
    "\n",
    "percent = quotient * 100\n",
    "\n",
    "print(\"Den private procentandel:\")\n",
    "print(percent)\n",
    "\n",
    "# her indsættes commitment to public interest i datasættet som binær variabel\n",
    "com_index = [i for i in alle_ordklasser_com_off.index]\n",
    "com_index.extend([i for i in alle_ordklasser_com_priv.index])\n",
    "\n",
    "df_done['COM'] = df_done.index.map(lambda x : 1 if x in com_index else 0)\n",
    "\n",
    "# df_done[df_done['COM']==1]"
   ]
  },
  {
   "cell_type": "markdown",
   "metadata": {},
   "source": [
    "#### Self-sacrifice:"
   ]
  },
  {
   "cell_type": "code",
   "execution_count": 54,
   "metadata": {},
   "outputs": [
    {
     "name": "stdout",
     "output_type": "stream",
     "text": [
      "Den offentlige procentandel:\n",
      "33.142201834862384\n",
      "Den private procentandel:\n",
      "27.694610778443113\n"
     ]
    }
   ],
   "source": [
    "# self-sacrifice\n",
    "\n",
    "verber_adjektiver_ss = \"gøre|give|yde|risikere|hjælpe|tilsidesætte|tjene|ofre|bidrage|god|personlig|uselvisk\"\n",
    "substantiver_ss = \"forskel|pligt|gerning|samfund|skyld|tab|behov|borger|pligt|afsavn|hensyn|følelse\"\n",
    "\n",
    "# Den første søgning efter verber og adjektiver blandt hhv. offentlig og private jobbeskrivelser\n",
    "verber_adjektiver_ss_off = offentlig_done[offentlig_done['jobbeskrivelse'].astype(str).str.contains(verber_adjektiver_ss)]\n",
    "verber_adjektiver_ss_priv = privat_done[privat_done['jobbeskrivelse'].astype(str).str.contains(verber_adjektiver_ss)]\n",
    "\n",
    "# sekventiel søgning efter substantiver i det netop fremsøgte materiale\n",
    "alle_ordklasser_ss_off = verber_adjektiver_ss_off[verber_adjektiver_ss_off['jobbeskrivelse'].astype(str).str.contains(substantiver_ss)]\n",
    "alle_ordklasser_ss_priv = verber_adjektiver_ss_priv[verber_adjektiver_ss_priv['jobbeskrivelse'].astype(str).str.contains(substantiver_ss)]\n",
    "\n",
    "# udregner den offentlige andel\n",
    "quotient = len(alle_ordklasser_ss_off) / samlet_antal_off \n",
    "\n",
    "percent = quotient * 100\n",
    "\n",
    "print(\"Den offentlige procentandel:\")\n",
    "print(percent)\n",
    "\n",
    "#udregner den private andel\n",
    "quotient = len(alle_ordklasser_ss_priv) / samlet_antal_priv\n",
    "\n",
    "percent = quotient * 100\n",
    "\n",
    "print(\"Den private procentandel:\")\n",
    "print(percent)\n",
    "\n",
    "# her indsættes commitment to public interest i datasættet som binær variabel\n",
    "ss_index = [i for i in alle_ordklasser_ss_off.index]\n",
    "ss_index.extend([i for i in alle_ordklasser_ss_priv.index])\n",
    "\n",
    "df_done['SS'] = df_done.index.map(lambda x : 1 if x in ss_index else 0)\n",
    "\n",
    "# df_done[df_done['SS']==1]\n"
   ]
  },
  {
   "cell_type": "markdown",
   "metadata": {},
   "source": [
    "### Forsøg på at finde ekstrinsiske indikatorer:"
   ]
  },
  {
   "cell_type": "markdown",
   "metadata": {},
   "source": [
    "##### Ydre motivation: materiel"
   ]
  },
  {
   "cell_type": "code",
   "execution_count": 56,
   "metadata": {},
   "outputs": [],
   "source": [
    "ydre_mot_verber_adj = \"tilbyde|attraktiv|høj|konkurrencedygtig|stor|god\"\n",
    "ydre_mot_sub = \"løn|personalegode|bonus\"\n",
    "\n",
    "# offentlig_done[offentlig_done['jobbeskrivelse'].astype(str).str.contains(\"løn|personalegode|bonus\")]\n",
    "# privat_done[privat_done['jobbeskrivelse'].astype(str).str.contains(\"tillæg|vederlag\")]"
   ]
  },
  {
   "cell_type": "code",
   "execution_count": 57,
   "metadata": {},
   "outputs": [
    {
     "name": "stdout",
     "output_type": "stream",
     "text": [
      "Den offentlige procentandel:\n",
      "1.6055045871559634\n",
      "Den private procentandel:\n",
      "4.790419161676647\n"
     ]
    }
   ],
   "source": [
    "# først søger jeg efter verber og adjektiver\n",
    "\n",
    "priv_mot_verber_adj = privat_done[privat_done['jobbeskrivelse'].astype(str).str.contains(ydre_mot_verber_adj)]\n",
    "off_mot_verber_adj = offentlig_done[offentlig_done['jobbeskrivelse'].astype(str).str.contains(ydre_mot_verber_adj)]\n",
    "\n",
    "# herefter søger jeg efter substantiver\n",
    "\n",
    "priv_ydre_mot_mate = priv_mot_verber_adj[priv_mot_verber_adj['jobbeskrivelse'].astype(str).str.contains(ydre_mot_sub)]\n",
    "off_ydre_mot_mate = off_mot_verber_adj[off_mot_verber_adj['jobbeskrivelse'].astype(str).str.contains(ydre_mot_sub)]\n",
    "\n",
    "\n",
    "# udregner den offentlige andel\n",
    "quotient = len(off_ydre_mot_mate) / samlet_antal_off \n",
    "\n",
    "percent = quotient * 100\n",
    "\n",
    "print(\"Den offentlige procentandel:\")\n",
    "print(percent)\n",
    "\n",
    "#udregner den private andel\n",
    "quotient = len(priv_ydre_mot_mate) / samlet_antal_priv\n",
    "\n",
    "percent = quotient * 100\n",
    "\n",
    "print(\"Den private procentandel:\")\n",
    "print(percent)\n",
    "\n",
    "\n",
    "# her indsættes monetært incitament i datasættet som binær variabel\n",
    "mi_index = [i for i in off_ydre_mot_mate.index]\n",
    "mi_index.extend([i for i in priv_ydre_mot_mate.index])\n",
    "\n",
    "df_done['MI'] = df_done.index.map(lambda x : 1 if x in mi_index else 0)\n",
    "\n"
   ]
  },
  {
   "cell_type": "markdown",
   "metadata": {},
   "source": [
    "Okay, vi kan se, at der er forskel fra brug af hele datasættet også brug af færre år. Centralt er det dog, at den overordnede tendens er den samme - og derfor spiller det ikke en afgørende rolle, hvor meget data der medtages. "
   ]
  },
  {
   "cell_type": "markdown",
   "metadata": {},
   "source": [
    "### Signifikanstest af ovenstående forskel:"
   ]
  },
  {
   "cell_type": "code",
   "execution_count": 35,
   "metadata": {},
   "outputs": [],
   "source": [
    "# t-test - hvis hver \"psm-indikator\" markeres med en kolonne, med enten 0 eller 1\n",
    "\n",
    "from scipy.stats import ttest_ind\n",
    "\n",
    "off = df_done[df_done['offentlig']==1]\n",
    "priv = df_done[df_done['offentlig']==0]"
   ]
  },
  {
   "cell_type": "code",
   "execution_count": 36,
   "metadata": {},
   "outputs": [
    {
     "name": "stdout",
     "output_type": "stream",
     "text": [
      "0.00000000000244414945662624129420654287468290806300\n"
     ]
    }
   ],
   "source": [
    "# attraction to public policy, t-test\n",
    "\n",
    "ttest_atp = ttest_ind(off['ATP'], priv['ATP']).pvalue\n",
    "\n",
    "output_atp = f\"{ttest_atp:.50f}\"\n",
    "print(output_atp)\n"
   ]
  },
  {
   "cell_type": "code",
   "execution_count": 37,
   "metadata": {},
   "outputs": [
    {
     "name": "stdout",
     "output_type": "stream",
     "text": [
      "0.00000001442477080029879734720646601445551149289770\n"
     ]
    }
   ],
   "source": [
    "# commitment to public interest, t-test\n",
    "\n",
    "ttest_cpi = ttest_ind(off['CPI'], priv['CPI']).pvalue\n",
    "\n",
    "output_cpi = f\"{ttest_cpi:.50f}\"\n",
    "\n",
    "print(output_cpi)"
   ]
  },
  {
   "cell_type": "code",
   "execution_count": 38,
   "metadata": {},
   "outputs": [
    {
     "name": "stdout",
     "output_type": "stream",
     "text": [
      "0.00007491048103203798631290200038534976556547917426\n"
     ]
    }
   ],
   "source": [
    "# compassion, t-test\n",
    "\n",
    "ttest_com = ttest_ind(off['COM'], priv['COM']).pvalue\n",
    "\n",
    "output_com = f\"{ttest_com:.50f}\"\n",
    "\n",
    "print(output_com)\n"
   ]
  },
  {
   "cell_type": "code",
   "execution_count": 39,
   "metadata": {},
   "outputs": [
    {
     "name": "stdout",
     "output_type": "stream",
     "text": [
      "0.02170888361558128559769542675894626881927251815796\n"
     ]
    }
   ],
   "source": [
    "# self-sacrifice, t-test\n",
    "\n",
    "ttest_ss = ttest_ind(off['SS'], priv['SS']).pvalue\n",
    "\n",
    "output_ss = f\"{ttest_ss:.50f}\"\n",
    "\n",
    "print(output_ss)"
   ]
  },
  {
   "cell_type": "code",
   "execution_count": 40,
   "metadata": {},
   "outputs": [
    {
     "name": "stdout",
     "output_type": "stream",
     "text": [
      "0.00026881765164920033749432204395191092771710827947\n"
     ]
    }
   ],
   "source": [
    "# monetært incitament, t-test\n",
    "\n",
    "ttest_mi = ttest_ind(off['MI'], priv['MI']).pvalue\n",
    "\n",
    "output_mi = f\"{ttest_mi:.50f}\"\n",
    "\n",
    "print(output_mi)"
   ]
  }
 ],
 "metadata": {
  "kernelspec": {
   "display_name": "Python 3",
   "language": "python",
   "name": "python3"
  },
  "language_info": {
   "codemirror_mode": {
    "name": "ipython",
    "version": 3
   },
   "file_extension": ".py",
   "mimetype": "text/x-python",
   "name": "python",
   "nbconvert_exporter": "python",
   "pygments_lexer": "ipython3",
   "version": "3.8.5"
  }
 },
 "nbformat": 4,
 "nbformat_minor": 4
}
