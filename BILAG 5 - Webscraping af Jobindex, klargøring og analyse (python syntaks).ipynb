{
 "cells": [
  {
   "cell_type": "markdown",
   "metadata": {},
   "source": [
    "# BILAG: WEBSCRAPING AF JOBINDEX"
   ]
  },
  {
   "cell_type": "markdown",
   "metadata": {},
   "source": [
    "###### Note: For at følge med og reproducere analyserne, skal du ned hente Jupyter Notebook. Det kan gøres på https://jupyter.org/. Du kan køre celler nemt ved at trykke Ctrl + Enter i cellemarkeringen. Det er vigtigt at du gemmer den vedhæftede 'pickle'-fil (final_scraping.pkl) i samme mappe som denne notesbog."
   ]
  },
  {
   "cell_type": "markdown",
   "metadata": {},
   "source": [
    "Dette bilag vil redegøre for min dataindsamling og -behandling\n",
    "\n",
    "Første af snit omhandler hvordan dataene er indsamlet. \n",
    "\n",
    "Herefter følges klargørelse og analyse.\n",
    "\n",
    "###### Centralt er to strategier i min dataklargørelse: \n",
    "1. Sørge for, at der kan skabes et aggregeret overblik over ord på tværs af jobannoncer (med stadig mulighed for sektoradskillelse)\n",
    "2. Sørge for, at hver jobannonce bevarer sin unikke kombination af ord\n"
   ]
  },
  {
   "cell_type": "code",
   "execution_count": 5,
   "metadata": {},
   "outputs": [],
   "source": [
    "# Dette er de forskellige udviklerpakker, som jeg bruger undervejs. Skal køres. \n",
    "from os import path\n",
    "from PIL import Image\n",
    "from wordcloud import WordCloud, STOPWORDS, ImageColorGenerator\n",
    "import pandas as pd\n",
    "import time\n",
    "import requests\n",
    "from bs4 import BeautifulSoup\n",
    "import matplotlib.pyplot as plt\n",
    "import nltk\n",
    "import string\n",
    "import lemmy\n",
    "import numpy\n",
    "import sys"
   ]
  },
  {
   "cell_type": "markdown",
   "metadata": {},
   "source": [
    "## Her skabes mit datasæt bestående af jobannoncer fra Jobindex "
   ]
  },
  {
   "cell_type": "markdown",
   "metadata": {},
   "source": [
    "### OBS: SKAL IKKE KØRES, KØR FRA \"Her klargøres og oprydes i datasættet\""
   ]
  },
  {
   "cell_type": "markdown",
   "metadata": {},
   "source": [
    "Dette behover ikke køres, såfremt du ønsker at indlæse min pickle-fil forneden. Dette indebærer, at du får lov til at anvende præcis den samme data som mig, fremfor at hente nyt ned. Derfor anbefales det, at dette afsnits celler ikke køres. "
   ]
  },
  {
   "cell_type": "code",
   "execution_count": 2,
   "metadata": {},
   "outputs": [],
   "source": [
    "import pandas as pd\n",
    "import time\n",
    "import requests\n",
    "from bs4 import BeautifulSoup\n",
    "\n",
    "# index = []\n",
    "# list_companies = []\n",
    "# beskrivelse_liste = []\n",
    "# antal_stjerner = []\n",
    "# month_list = []\n",
    "# year_list = []\n",
    "# day_list = []\n",
    "# url_liste = []\n",
    "# category_job = []\n",
    "\n",
    "# antal_sider = 1130\n",
    "\n",
    "# for j in range(1, antal_sider + 1):\n",
    "#     url = \"https://www.jobindex.dk/jobsoegning/kontor/jura?jobage=archive&maxdate=20211121&mindate=20050101&page={}&q=jurist+advokat\".format(j)\n",
    "#     result = requests.get(url)\n",
    "#     src = result.content\n",
    "#     soup = BeautifulSoup(src, 'html.parser')\n",
    "#     jobs = soup.find_all(\"div\", {\"class\": 'PaidJob'})\n",
    "\n",
    "\n",
    "#     # Kodning\n",
    "    \n",
    "#     for i, job in enumerate(jobs):\n",
    "        \n",
    "#         # Navnet på organisationen\n",
    "#         try:\n",
    "#             company = job.p.a.b.text\n",
    "#             list_companies.append(company)\n",
    "#         except:\n",
    "#             list_companies.append('NaN')\n",
    "\n",
    "#         # tekst fra kroppen af annoncen\n",
    "#         text = ''\n",
    "#         for p in job.find_all('p')[1:]:\n",
    "#             text += p.text\n",
    "\n",
    "#          # bulletpoints fra annoncen\n",
    "#         opgaver_liste = ''\n",
    "#         opgaver = job.find_all('li')\n",
    "\n",
    "\n",
    "#         for opgave in opgaver:\n",
    "#             if '\\n' not in opgave.text:\n",
    "                \n",
    "#                 text += opgave.text\n",
    "\n",
    "#         beskrivelse_liste.append(text)\n",
    "\n",
    "#         try: \n",
    "#             stjerner = job.find('span', {'class': 'sr-only'}).text.split()[0]\n",
    "#             antal_stjerner.append(stjerner)\n",
    "#         except:\n",
    "#             antal_stjerner.append('NaN')\n",
    "\n",
    "#         # data\n",
    "#         dato = str(job.find('time'))\n",
    "#         year = dato[16:20]\n",
    "#         month = dato[21:23]\n",
    "#         day = dato[24:26]\n",
    "\n",
    "#         month_list.append(month)\n",
    "#         year_list.append(year)\n",
    "#         day_list.append(day)\n",
    "\n",
    "#         link = job.find_all('a')[6]['href']\n",
    "#         url_liste.append(link)\n",
    "\n",
    "\n",
    "\n",
    "        \n",
    "#     time.sleep(2)\n",
    "    \n"
   ]
  },
  {
   "cell_type": "code",
   "execution_count": 3,
   "metadata": {},
   "outputs": [],
   "source": [
    "df = pd.DataFrame()"
   ]
  },
  {
   "cell_type": "code",
   "execution_count": 4,
   "metadata": {},
   "outputs": [
    {
     "name": "stderr",
     "output_type": "stream",
     "text": [
      "<ipython-input-4-68d20d33f58d>:1: DeprecationWarning: The default dtype for empty Series will be 'object' instead of 'float64' in a future version. Specify a dtype explicitly to silence this warning.\n",
      "  df['index'] = pd.Series(index)\n"
     ]
    }
   ],
   "source": [
    "df['index'] = pd.Series(index)\n",
    "df['company'] = pd.Series(list_companies)\n",
    "df['jobbeskrivelse'] = pd.Series(beskrivelse_liste)\n",
    "df['antal_stjerner'] = pd.Series(antal_stjerner)\n",
    "df['month'] = pd.Series(month_list)\n",
    "df['year'] = pd.Series(year_list)\n",
    "df['day'] = pd.Series(day_list)\n",
    "df['url'] = pd.Series(url_liste)"
   ]
  },
  {
   "cell_type": "code",
   "execution_count": 5,
   "metadata": {},
   "outputs": [
    {
     "data": {
      "text/plain": [
       "'BankInvest Gruppen'"
      ]
     },
     "execution_count": 5,
     "metadata": {},
     "output_type": "execute_result"
    }
   ],
   "source": [
    "df[\"company\"].iloc[10000]"
   ]
  },
  {
   "cell_type": "code",
   "execution_count": 6,
   "metadata": {},
   "outputs": [
    {
     "data": {
      "text/plain": [
       "'\\nVi søger en erfaren jurist til selvstændigt at give juridisk rådgivning til BankInvest Gruppens direktion og afdelinger og til at løse en række opgaver under overskriften ”legal risk management”, herunder arbejde med implementering af ny lovgivning. Du vil i vid udstrækning selv være med til at identificere relevante arbejdsopgaver. \\nDu vil indgå som en del af Legal Department, som ud over en chefjurist består af tre jurister/advokater samt to sekretærer. '"
      ]
     },
     "execution_count": 6,
     "metadata": {},
     "output_type": "execute_result"
    }
   ],
   "source": [
    "df[\"jobbeskrivelse\"].iloc[10000]"
   ]
  },
  {
   "cell_type": "code",
   "execution_count": 7,
   "metadata": {},
   "outputs": [
    {
     "data": {
      "text/plain": [
       "'2008'"
      ]
     },
     "execution_count": 7,
     "metadata": {},
     "output_type": "execute_result"
    }
   ],
   "source": [
    "df[\"year\"].iloc[10000]"
   ]
  },
  {
   "cell_type": "code",
   "execution_count": 324,
   "metadata": {},
   "outputs": [],
   "source": [
    "df.to_pickle(\"final_scraping.pkl\") # gemmer ovenstående dataframe til en pickle-fil"
   ]
  },
  {
   "cell_type": "markdown",
   "metadata": {},
   "source": [
    "### START HERFRA:"
   ]
  },
  {
   "cell_type": "markdown",
   "metadata": {},
   "source": [
    "## Her klargøres og opryddes datasættet"
   ]
  },
  {
   "cell_type": "code",
   "execution_count": 6,
   "metadata": {},
   "outputs": [
    {
     "data": {
      "text/html": [
       "<div>\n",
       "<style scoped>\n",
       "    .dataframe tbody tr th:only-of-type {\n",
       "        vertical-align: middle;\n",
       "    }\n",
       "\n",
       "    .dataframe tbody tr th {\n",
       "        vertical-align: top;\n",
       "    }\n",
       "\n",
       "    .dataframe thead th {\n",
       "        text-align: right;\n",
       "    }\n",
       "</style>\n",
       "<table border=\"1\" class=\"dataframe\">\n",
       "  <thead>\n",
       "    <tr style=\"text-align: right;\">\n",
       "      <th></th>\n",
       "      <th>index</th>\n",
       "      <th>company</th>\n",
       "      <th>jobbeskrivelse</th>\n",
       "      <th>antal_stjerner</th>\n",
       "      <th>month</th>\n",
       "      <th>year</th>\n",
       "      <th>day</th>\n",
       "      <th>url</th>\n",
       "      <th>english</th>\n",
       "      <th>offentlig</th>\n",
       "    </tr>\n",
       "  </thead>\n",
       "  <tbody>\n",
       "    <tr>\n",
       "      <th>0</th>\n",
       "      <td>NaN</td>\n",
       "      <td>Telenor</td>\n",
       "      <td>Kunne du tænke dig at arbejde i en intern juri...</td>\n",
       "      <td>4</td>\n",
       "      <td>11</td>\n",
       "      <td>2021</td>\n",
       "      <td>11</td>\n",
       "      <td>https://candidate.hr-manager.net/ApplicationIn...</td>\n",
       "      <td>0</td>\n",
       "      <td>0</td>\n",
       "    </tr>\n",
       "    <tr>\n",
       "      <th>1</th>\n",
       "      <td>NaN</td>\n",
       "      <td>Alm. Brand</td>\n",
       "      <td>Kan du håndtere regressager som blander forsik...</td>\n",
       "      <td>5</td>\n",
       "      <td>11</td>\n",
       "      <td>2021</td>\n",
       "      <td>09</td>\n",
       "      <td>https://candidate.hr-manager.net/ApplicationIn...</td>\n",
       "      <td>0</td>\n",
       "      <td>0</td>\n",
       "    </tr>\n",
       "    <tr>\n",
       "      <th>2</th>\n",
       "      <td>NaN</td>\n",
       "      <td>Herlev Kommune</td>\n",
       "      <td>Herlev Kommune søger en jurist, der betegner s...</td>\n",
       "      <td>3</td>\n",
       "      <td>11</td>\n",
       "      <td>2021</td>\n",
       "      <td>08</td>\n",
       "      <td>https://herlev.emply.net/recruitment/vacancyAd...</td>\n",
       "      <td>0</td>\n",
       "      <td>1</td>\n",
       "    </tr>\n",
       "    <tr>\n",
       "      <th>3</th>\n",
       "      <td>NaN</td>\n",
       "      <td>Skattestyrelsen</td>\n",
       "      <td>Hvis du er klar på at hjælpe danske og udenlan...</td>\n",
       "      <td>4</td>\n",
       "      <td>11</td>\n",
       "      <td>2021</td>\n",
       "      <td>08</td>\n",
       "      <td>https://candidate.hr-manager.net/ApplicationIn...</td>\n",
       "      <td>0</td>\n",
       "      <td>1</td>\n",
       "    </tr>\n",
       "    <tr>\n",
       "      <th>4</th>\n",
       "      <td>NaN</td>\n",
       "      <td>PenSam</td>\n",
       "      <td>Har du lyst til at blive PenSam Banks jurist o...</td>\n",
       "      <td>NaN</td>\n",
       "      <td>11</td>\n",
       "      <td>2021</td>\n",
       "      <td>06</td>\n",
       "      <td>https://hr-portal.azets.dk/REK/Pensam/Joblist/...</td>\n",
       "      <td>0</td>\n",
       "      <td>0</td>\n",
       "    </tr>\n",
       "    <tr>\n",
       "      <th>...</th>\n",
       "      <td>...</td>\n",
       "      <td>...</td>\n",
       "      <td>...</td>\n",
       "      <td>...</td>\n",
       "      <td>...</td>\n",
       "      <td>...</td>\n",
       "      <td>...</td>\n",
       "      <td>...</td>\n",
       "      <td>...</td>\n",
       "      <td>...</td>\n",
       "    </tr>\n",
       "    <tr>\n",
       "      <th>10418</th>\n",
       "      <td>NaN</td>\n",
       "      <td>SkandiaBanken</td>\n",
       "      <td>\\nDine primære ansvarsområder er:\\nDu er uddan...</td>\n",
       "      <td>NaN</td>\n",
       "      <td>01</td>\n",
       "      <td>2007</td>\n",
       "      <td>15</td>\n",
       "      <td>http://www.jobindex.dk/annoncer/55588.shtml</td>\n",
       "      <td>0</td>\n",
       "      <td>0</td>\n",
       "    </tr>\n",
       "    <tr>\n",
       "      <th>10419</th>\n",
       "      <td>NaN</td>\n",
       "      <td>Realkredit Danmark</td>\n",
       "      <td>\\nEr du erfaren jurist eller akademiker med an...</td>\n",
       "      <td>5</td>\n",
       "      <td>01</td>\n",
       "      <td>2007</td>\n",
       "      <td>12</td>\n",
       "      <td>http://www.rd.dk/</td>\n",
       "      <td>0</td>\n",
       "      <td>0</td>\n",
       "    </tr>\n",
       "    <tr>\n",
       "      <th>10420</th>\n",
       "      <td>NaN</td>\n",
       "      <td>BRFkredit</td>\n",
       "      <td>\\nMed reference til den administrerende direkt...</td>\n",
       "      <td>NaN</td>\n",
       "      <td>01</td>\n",
       "      <td>2007</td>\n",
       "      <td>09</td>\n",
       "      <td>http://www.brf.dk/C12569D50035A140/alldocs/DOC...</td>\n",
       "      <td>0</td>\n",
       "      <td>0</td>\n",
       "    </tr>\n",
       "    <tr>\n",
       "      <th>10421</th>\n",
       "      <td>NaN</td>\n",
       "      <td>Dansk Retursystem A/S</td>\n",
       "      <td>\\nVi søger en jurist på nedsat tid, der i sama...</td>\n",
       "      <td>4</td>\n",
       "      <td>01</td>\n",
       "      <td>2007</td>\n",
       "      <td>08</td>\n",
       "      <td>http://www.danskretursystem.dk/composite-257.htm</td>\n",
       "      <td>0</td>\n",
       "      <td>0</td>\n",
       "    </tr>\n",
       "    <tr>\n",
       "      <th>10422</th>\n",
       "      <td>NaN</td>\n",
       "      <td>Banedanmark</td>\n",
       "      <td>\\nBanedanmark, Entreprise søger en erfaren jur...</td>\n",
       "      <td>4</td>\n",
       "      <td>01</td>\n",
       "      <td>2007</td>\n",
       "      <td>04</td>\n",
       "      <td>http://www.banedanmark.dk/</td>\n",
       "      <td>0</td>\n",
       "      <td>1</td>\n",
       "    </tr>\n",
       "  </tbody>\n",
       "</table>\n",
       "<p>10359 rows × 10 columns</p>\n",
       "</div>"
      ],
      "text/plain": [
       "       index                company  \\\n",
       "0        NaN                Telenor   \n",
       "1        NaN             Alm. Brand   \n",
       "2        NaN         Herlev Kommune   \n",
       "3        NaN        Skattestyrelsen   \n",
       "4        NaN                 PenSam   \n",
       "...      ...                    ...   \n",
       "10418    NaN          SkandiaBanken   \n",
       "10419    NaN     Realkredit Danmark   \n",
       "10420    NaN              BRFkredit   \n",
       "10421    NaN  Dansk Retursystem A/S   \n",
       "10422    NaN            Banedanmark   \n",
       "\n",
       "                                          jobbeskrivelse antal_stjerner month  \\\n",
       "0      Kunne du tænke dig at arbejde i en intern juri...              4    11   \n",
       "1      Kan du håndtere regressager som blander forsik...              5    11   \n",
       "2      Herlev Kommune søger en jurist, der betegner s...              3    11   \n",
       "3      Hvis du er klar på at hjælpe danske og udenlan...              4    11   \n",
       "4      Har du lyst til at blive PenSam Banks jurist o...            NaN    11   \n",
       "...                                                  ...            ...   ...   \n",
       "10418  \\nDine primære ansvarsområder er:\\nDu er uddan...            NaN    01   \n",
       "10419  \\nEr du erfaren jurist eller akademiker med an...              5    01   \n",
       "10420  \\nMed reference til den administrerende direkt...            NaN    01   \n",
       "10421  \\nVi søger en jurist på nedsat tid, der i sama...              4    01   \n",
       "10422  \\nBanedanmark, Entreprise søger en erfaren jur...              4    01   \n",
       "\n",
       "       year day                                                url  english  \\\n",
       "0      2021  11  https://candidate.hr-manager.net/ApplicationIn...        0   \n",
       "1      2021  09  https://candidate.hr-manager.net/ApplicationIn...        0   \n",
       "2      2021  08  https://herlev.emply.net/recruitment/vacancyAd...        0   \n",
       "3      2021  08  https://candidate.hr-manager.net/ApplicationIn...        0   \n",
       "4      2021  06  https://hr-portal.azets.dk/REK/Pensam/Joblist/...        0   \n",
       "...     ...  ..                                                ...      ...   \n",
       "10418  2007  15        http://www.jobindex.dk/annoncer/55588.shtml        0   \n",
       "10419  2007  12                                  http://www.rd.dk/        0   \n",
       "10420  2007  09  http://www.brf.dk/C12569D50035A140/alldocs/DOC...        0   \n",
       "10421  2007  08   http://www.danskretursystem.dk/composite-257.htm        0   \n",
       "10422  2007  04                         http://www.banedanmark.dk/        0   \n",
       "\n",
       "       offentlig  \n",
       "0              0  \n",
       "1              0  \n",
       "2              1  \n",
       "3              1  \n",
       "4              0  \n",
       "...          ...  \n",
       "10418          0  \n",
       "10419          0  \n",
       "10420          0  \n",
       "10421          0  \n",
       "10422          1  \n",
       "\n",
       "[10359 rows x 10 columns]"
      ]
     },
     "execution_count": 6,
     "metadata": {},
     "output_type": "execute_result"
    }
   ],
   "source": [
    "df = pd.read_pickle(\"final_scraping.pkl\") # indlæser pickle-fil\n",
    "\n",
    "df[\"company\"]\n",
    "df"
   ]
  },
  {
   "cell_type": "markdown",
   "metadata": {},
   "source": [
    "#### Her frasorteres udenlandske annoncer:"
   ]
  },
  {
   "cell_type": "code",
   "execution_count": 7,
   "metadata": {},
   "outputs": [],
   "source": [
    "#Frasorter de engelske jobannoncer\n",
    "df['english'] = [0 if 'æ' in x or 'ø' in x or 'å' in x else 2 for x in df['jobbeskrivelse']]\n",
    "\n",
    "df = df[df.english != 2]\n"
   ]
  },
  {
   "cell_type": "markdown",
   "metadata": {},
   "source": [
    "#### Rengør datasæt for forkerte placeringer af data:"
   ]
  },
  {
   "cell_type": "code",
   "execution_count": 8,
   "metadata": {},
   "outputs": [
    {
     "name": "stdout",
     "output_type": "stream",
     "text": [
      "286    Jurist med interesse for transporterhverv\n",
      "Name: company, dtype: object\n",
      "654    Jurist/Senior Legal Advisor\n",
      "Name: company, dtype: object\n",
      "239    Nyuddannet jurist søges til arbejde med lovfor...\n",
      "Name: company, dtype: object\n",
      "7487    Fuldmægtig/specialkonsulent til alsidige opgav...\n",
      "Name: company, dtype: object\n",
      "9195    Fuldmægtige til FødevareErhverv\n",
      "Name: company, dtype: object\n"
     ]
    },
    {
     "data": {
      "text/plain": [
       "431     Gadejuristen, København, søger tre jurister t...\n",
       "Name: jobbeskrivelse, dtype: object"
      ]
     },
     "execution_count": 8,
     "metadata": {},
     "output_type": "execute_result"
    }
   ],
   "source": [
    "# få byttet dem med forkert placering af company og jobbeskrivelse som fx jurist og konsulent, Fuldmægtig\n",
    "# df[df['company'].str.contains(\"Jurist\")]\n",
    "\n",
    "\n",
    "# identificer annoncerne med forkerte dataindtastninger under \"company\"\n",
    "print(df.loc[df.index==286].company)\n",
    "print(df.loc[df.index==654].company)\n",
    "print(df.loc[df.index==239].company)\n",
    "print(df.loc[df.index==7487].company)\n",
    "print(df.loc[df.index==9195].company)\n",
    "\n",
    "# Giv annoncerne det rette virksomhedsnavn\n",
    "df[\"company\"].replace({\"Jurist med interesse for transporterhverv\": \"Trafikstyrelsen\"}, inplace=True)\n",
    "df[\"company\"].replace({\"Jurist/Senior Legal Advisor\": \"Telia Danmark\"}, inplace=True)\n",
    "df[\"company\"].replace({\"Nyuddannet jurist søges til arbejde med lovforslag og ministerbetjening\": \"Børne- og Undervisningsministeriet\"}, inplace=True)\n",
    "df[\"company\"].replace({\"Fuldmægtig/specialkonsulent til alsidige opgaver på søterritoriet\": \"Miljø- og fødevareministeriet\"}, inplace=True)\n",
    "df[\"company\"].replace({\"Fuldmægtige til FødevareErhverv\": \"Ministeriet for Fødevarer, Landbrug og Fiskeri\"}, inplace=True)\n",
    "\n",
    "# værktøj til at inspicere virksomhedsnavne\n",
    "df[df['company'].str.contains('jurist')].jobbeskrivelse \n"
   ]
  },
  {
   "cell_type": "markdown",
   "metadata": {},
   "source": [
    "#### Her kategoriseres offentlige jobannoncer, baseret på navnet på afsendervirksomheden:"
   ]
  },
  {
   "cell_type": "code",
   "execution_count": 82,
   "metadata": {},
   "outputs": [],
   "source": [
    "# Sorterer offentlige og private jobannoncer fra hinanden\n",
    "# offentlig er 1 og privat 0\n",
    "\n",
    "df['offentlig'] = [1 if 'Kommune' in x # først statslige myndigheder\n",
    "                   or 'kommune' in x\n",
    "                   or 'ministerie' in x \n",
    "                   or 'Ministerie' in x\n",
    "                   or 'minister' in x\n",
    "                   or 'styrelse' in x \n",
    "                   or 'Styrelse' in x \n",
    "                   or 'Region' in x\n",
    "                   or 'Staten' in x\n",
    "                   or 'myndighed' in x \n",
    "                   or 'Myndighed' in x\n",
    "                   or 'tilsyn' in x \n",
    "                   or 'Politi' in x \n",
    "                   or 'politi' in x \n",
    "                   or 'Forsvaret'in x\n",
    "                   or 'DR' in x \n",
    "                   or 'Banedanmark' in x\n",
    "                   or 'Retten' in x\n",
    "                   or 'Grønland' in x\n",
    "                   or 'Selvstyre' in x\n",
    "                   or 'Kriminalforsorgen'in x\n",
    "                   or 'Statens IT' in x\n",
    "                   or 'Danmarks Statistik' in x\n",
    "                   or 'Sundhed.dk' in x\n",
    "                   or 'Bibliotek' in x\n",
    "                   or 'SKAT' in x\n",
    "                   or 'Jobcenter' in x\n",
    "                   or 'Hjemmeværnskommandoen' in x\n",
    "                   or 'Statsforvaltningen' in x\n",
    "                   or 'Nationalbank' in x\n",
    "                   or 'Vejdirektoratet' in x\n",
    "                   # under beskæftigelsesministeriet\n",
    "                   or 'ATP' in x\n",
    "                   or 'Arbejdsmarkedets Erhvervssikring' in x\n",
    "                   # herefter uddannelsesinstitutioner\n",
    "                   or 'Professionshøjskole' in x\n",
    "                   or 'Universitet'in x\n",
    "                   or 'Copenhagen Business School' in x\n",
    "                   or 'University College' in x\n",
    "                   or 'Erhvervsskolen Nordsjælland' in x\n",
    "                   or 'Erhvervsakademi' in x\n",
    "                   or 'UC Syd' in x\n",
    "                   or 'College' in x \n",
    "                   or 'Hotel- og Restaurantskolen' in x\n",
    "                   or 'Kongelige' in x\n",
    "                   or 'SIMAC' in x\n",
    "                   # herefter råd og nævn\n",
    "                   or 'Det Etiske Råd' in x\n",
    "                   or 'Patienterstatningen' in x\n",
    "                   or 'Nævn' in x\n",
    "                   or 'nævn' in x\n",
    "                   or 'Den Nationale Klageinstans mod Mobning' in x\n",
    "                   or 'Rigsadvokaten' in x\n",
    "                   or 'Rigsombudsmanden i Grønland' in x\n",
    "                   or 'Den Europæiske Union' in x\n",
    "                   or 'Nævnenes Hus' in x\n",
    "                   or 'Dansk Varefakta Nævn' in x\n",
    "                   # herefter statslige selskaber med fuld aktiemajoritet\n",
    "                   or 'DSB' in x\n",
    "                   or 'Vækstfonden' in x\n",
    "                   or 'EKF Danmarks Eksportkredit' in x\n",
    "                   or 'Finansiel Stabilitet' in x\n",
    "                   or 'Investeringsfonden for udviklingslande (IFU)' in x\n",
    "                   or 'Naviair' in x\n",
    "                   or 'Evida' in x\n",
    "                   or 'Sund & Bælt Holding A/S' in x\n",
    "                   or 'Eksport Kredit Fonden' in x\n",
    "                   or 'Nationalt Genom Center' in x\n",
    "                   or 'Københavns Tekniske Skole' in x\n",
    "                   or 'Energinet' in x\n",
    "                   or \"TV 2\" in x\n",
    "                   or \"Nordsøenheden\" in x\n",
    "                   or \"Bornholmstrafikken Holding A/S\" in x\n",
    "                   or \"Danpilot\" in x\n",
    "                   or \"Statens Ejendomssalg A/S\" in x\n",
    "                   or \"Det Danske Klasselotteri A/S\" in x\n",
    "                   \n",
    "                   else 0\n",
    "\n",
    "for x in df['company']]\n",
    "\n",
    "# Jeg bliver dog nød til at manuelt korregere fejl, som fx disse firmaer der er blevet klassificeret som offentlig grundet søgning efter \"DR\".\n",
    "\n",
    "df.loc[df.company == \"DRACHMANN ADVOKATER\", 'offentlig'] = 0\n",
    "df.loc[df.company == \"DRACHMANN EJENDOMSADMINISTRATION A/S\", 'offentlig'] = 0\n"
   ]
  },
  {
   "cell_type": "markdown",
   "metadata": {},
   "source": [
    "#### Her vurderes fordelingen af jobbeskrivelser på år. Jeg laver desuden et alternativt datasæt kun med observationer fra 2021."
   ]
  },
  {
   "cell_type": "code",
   "execution_count": 9,
   "metadata": {
    "scrolled": true
   },
   "outputs": [
    {
     "name": "stdout",
     "output_type": "stream",
     "text": [
      "242\n",
      "293\n",
      "233\n",
      "310\n",
      "336\n",
      "294\n",
      "327\n",
      "482\n",
      "585\n",
      "777\n",
      "1067\n",
      "1306\n",
      "1278\n",
      "1289\n",
      "1540\n",
      "0    208\n",
      "1     34\n",
      "Name: offentlig, dtype: int64\n",
      "0    245\n",
      "1     48\n",
      "Name: offentlig, dtype: int64\n",
      "0    195\n",
      "1     38\n",
      "Name: offentlig, dtype: int64\n",
      "0    251\n",
      "1     59\n",
      "Name: offentlig, dtype: int64\n",
      "0    261\n",
      "1     75\n",
      "Name: offentlig, dtype: int64\n",
      "0    218\n",
      "1     76\n",
      "Name: offentlig, dtype: int64\n",
      "0    232\n",
      "1     95\n",
      "Name: offentlig, dtype: int64\n",
      "0    323\n",
      "1    159\n",
      "Name: offentlig, dtype: int64\n",
      "0    369\n",
      "1    216\n",
      "Name: offentlig, dtype: int64\n",
      "0    499\n",
      "1    278\n",
      "Name: offentlig, dtype: int64\n",
      "0    625\n",
      "1    442\n",
      "Name: offentlig, dtype: int64\n",
      "0    707\n",
      "1    599\n",
      "Name: offentlig, dtype: int64\n",
      "0    644\n",
      "1    634\n",
      "Name: offentlig, dtype: int64\n",
      "1    673\n",
      "0    616\n",
      "Name: offentlig, dtype: int64\n",
      "1    809\n",
      "0    731\n",
      "Name: offentlig, dtype: int64\n"
     ]
    }
   ],
   "source": [
    "# finder fordelingen af annoncer baseret på årstal\n",
    "print(len(df[df['year'].str.contains(\"2007\")]))\n",
    "print(len(df[df['year'].str.contains(\"2008\")]))\n",
    "print(len(df[df['year'].str.contains(\"2009\")]))\n",
    "print(len(df[df['year'].str.contains(\"2010\")]))\n",
    "print(len(df[df['year'].str.contains(\"2011\")]))\n",
    "print(len(df[df['year'].str.contains(\"2012\")]))\n",
    "print(len(df[df['year'].str.contains(\"2013\")]))\n",
    "print(len(df[df['year'].str.contains(\"2014\")]))\n",
    "print(len(df[df['year'].str.contains(\"2015\")]))\n",
    "print(len(df[df['year'].str.contains(\"2016\")]))\n",
    "print(len(df[df['year'].str.contains(\"2017\")]))\n",
    "print(len(df[df['year'].str.contains(\"2018\")]))\n",
    "print(len(df[df['year'].str.contains(\"2019\")]))\n",
    "print(len(df[df['year'].str.contains(\"2020\")]))\n",
    "print(len(df[df['year'].str.contains(\"2021\")]))\n",
    "\n",
    "# annoncer fra den private og offentlige sektor pr år:\n",
    "     \n",
    "print(df[df['year'].str.contains(\"2007\")].offentlig.value_counts())\n",
    "print(df[df['year'].str.contains(\"2008\")].offentlig.value_counts())\n",
    "print(df[df['year'].str.contains(\"2009\")].offentlig.value_counts())\n",
    "print(df[df['year'].str.contains(\"2010\")].offentlig.value_counts())\n",
    "print(df[df['year'].str.contains(\"2011\")].offentlig.value_counts())\n",
    "print(df[df['year'].str.contains(\"2012\")].offentlig.value_counts())\n",
    "print(df[df['year'].str.contains(\"2013\")].offentlig.value_counts())\n",
    "print(df[df['year'].str.contains(\"2014\")].offentlig.value_counts())\n",
    "print(df[df['year'].str.contains(\"2015\")].offentlig.value_counts())\n",
    "print(df[df['year'].str.contains(\"2016\")].offentlig.value_counts())\n",
    "print(df[df['year'].str.contains(\"2017\")].offentlig.value_counts())\n",
    "print(df[df['year'].str.contains(\"2018\")].offentlig.value_counts())\n",
    "print(df[df['year'].str.contains(\"2019\")].offentlig.value_counts())\n",
    "print(df[df['year'].str.contains(\"2020\")].offentlig.value_counts())\n",
    "print(df[df['year'].str.contains(\"2021\")].offentlig.value_counts())"
   ]
  },
  {
   "cell_type": "markdown",
   "metadata": {},
   "source": [
    "#### Fordelinger af virksomheder baseret på sektortype:"
   ]
  },
  {
   "cell_type": "code",
   "execution_count": 10,
   "metadata": {},
   "outputs": [
    {
     "data": {
      "text/plain": [
       "0    6124\n",
       "1    4235\n",
       "Name: offentlig, dtype: int64"
      ]
     },
     "execution_count": 10,
     "metadata": {},
     "output_type": "execute_result"
    }
   ],
   "source": [
    "# Hvor mange virksomheder fremfår fra det private og fra det offentlige?\n",
    "# HUSK PRIVAT ER 0 og OFFENTLIG ER 1\n",
    "\n",
    "df['offentlig'].value_counts()"
   ]
  },
  {
   "cell_type": "code",
   "execution_count": 84,
   "metadata": {},
   "outputs": [],
   "source": [
    "# opdeling af datasæt i privat og offentlig karakter\n",
    "offentlig_data = df.loc[df['offentlig'] == 1]\n",
    "privat_data = df.loc[df['offentlig'] == 0]\n",
    "\n",
    "# fokus på de pågældende jobbeskrivelser\n",
    "offentlig_text = offentlig_data.jobbeskrivelse\n",
    "privat_text = privat_data.jobbeskrivelse\n",
    "\n",
    "# lav en stor, som ikke adskiller de i sektorer (endnu)\n",
    "all_text = df.jobbeskrivelse"
   ]
  },
  {
   "cell_type": "markdown",
   "metadata": {},
   "source": [
    "#### Skaber en liste over alle virksomheder i datasættet - delt op i privat og offentlig:"
   ]
  },
  {
   "cell_type": "code",
   "execution_count": 85,
   "metadata": {},
   "outputs": [
    {
     "name": "stdout",
     "output_type": "stream",
     "text": [
      "Offentlige virksomheder:\n",
      "294\n",
      "\n",
      "Private virksomheder:\n",
      "1333\n",
      "['Herlev Kommune', 'Skattestyrelsen', 'Region Syddanmark', 'Miljøministeriet', 'Styrelsen for Arbejdsmarked og Rekruttering', 'Energistyrelsen', 'Ministeriet for Fødevarer, Landbrug og Fiskeri', 'Skatteministeriet', 'ATP', 'Konkurrence- og Forbrugerstyrelsen', 'Trafikstyrelsen', 'Banedanmark', 'Færdselsstyrelsen', 'Vurderingsstyrelsen', 'Københavns Universitet', 'Grønlands Selvstyre', 'Vordingborg Kommune', 'Aarhus Business College', 'Erhvervsstyrelsen', 'Socialstyrelsen', 'Finanstilsynet', 'Lyngby-Taarbæk Kommune', 'Roskilde Universitet', 'Arbejdstilsynet', 'Københavns Kommune', 'Styrelsen for Undervisning og Kvalitet', 'Forsvarsministeriets Ejendomsstyrelse,', 'Bolig- og Planstyrelsen', 'Styrelsen For It og Læring', 'Københavns Professionshøjskole', 'IT-Universitetet i København', 'Syd- og Sønderjyllands Politi', 'Vesthimmerlands Kommune', 'Rigspolitiet', 'Domstolsstyrelsen', 'Energinet', 'Uddannelses- og Forskningsministeriet', 'Digitaliseringsstyrelsen', 'Danmarks Tekniske Universitet', 'Søfartsstyrelsen', 'Forsvarsministeriet', 'Anklagemyndigheden', 'Økonomistyrelsen', 'Sydsjællands og Lolland-Falsters Politi', 'Forsyningstilsynet', 'DR', 'Gældsstyrelsen', 'Børne- og Undervisningsministeriet', 'Gribskov Kommune', 'Norddjurs Kommune', 'Udviklings- og Forenklingsstyrelsen', 'EKF Danmarks Eksportkredit', 'Københavns Politi', 'Professionshøjskolen UCN', 'Ankestyrelsen', 'Kalundborg Kommune', 'Administrations- og Servicestyrelsen', 'Grønlands Politi', 'Styrelsen for Patientsikkerhed', 'Fredensborg Kommune', 'Bygningsstyrelsen', 'Ishøj Kommune', 'Frederiksberg Kommune', 'Sundhedsstyrelsen', 'Forsvarsministeriets Materiel- og Indkøbstyrelse', 'Kriminalforsorgen i Grønland', 'Vejdirektoratet', 'Herning Kommune', 'Kulturministeriet, Departementet', 'Spillemyndigheden', 'Danske Regioner', 'Slots- og Kulturstyrelsen', 'Nævnenes Hus', 'Kriminalforsorgen', 'Medarbejder- og Kompetencestyrelsen', 'Skatteankestyrelsen', 'Kolding Kommune', 'Esbjerg Kommune', 'Kommuneqarfik Sermersooq', 'Evida', 'Finansiel Stabilitet', 'Professionshøjskolen Absalon', 'Egedal Kommune', 'Gladsaxe Kommune', 'Sund & Bælt Holding A/S', 'Varde Kommune', 'Forsvarsministeriets Regnskabsstyrelse', 'Toldstyrelsen', 'Horsens Kommune', 'Region Hovedstaden', 'Forsvarsministeriets Personalestyrelse', 'Hjørring Kommune', 'Helsingør Kommune', 'KommuneKredit', 'Sundhedsministeriet', 'Det Kongelige Teater', 'Det Etiske Råd og Den Nationale Videnskabsetiske Komité', 'Det finansielle ankenævn', 'Langeland Kommune', 'Aarhus Kommune', 'Erhvervsministeriet', 'Motorstyrelsen', 'Forsvarsministeriets Ejendomsstyrelse', 'Politiets Efterretningstjeneste', 'Holstebro Kommune', 'Nationalt Genom Center', 'Danmarks Nationalbank', 'Ballerup Kommune', 'DR Byen', 'Halsnæs Kommune', 'Lægemiddelstyrelsen', 'Stevns Kommune', 'Vallensbæk Kommune', 'Staten og Kommunernes Indkøbsservice A/S (SKI)', 'Syddjurs Kommune', 'Patent- og Varemærkestyrelsen', 'Hillerød Kommune', 'Forsvarets Efterretningstjeneste', 'Beskæftigelsesministeriet', 'Finansministeriet', 'Ikast-Brande Kommune', 'Nordsjællands Politi', 'Nyborg Kommune', 'Ankenævnet for Forsikring', 'Vækstfonden', 'Den Nationale Klageinstans mod Mobning', 'Sundhed.dk', 'Geodatastyrelsen', 'Sikkerhedsstyrelsen', 'Region Midtjylland', 'DSB', 'Odense Kommune', 'Holbæk Kommune', 'Næstved Kommune', 'Forsvarsministeriets Materiel- og Indkøbsstyrelse', 'Frederikshavn Kommune', 'Trafik-, Bygge- og Boligstyrelsen', 'Copenhagen Business School', 'Frederikssund Kommune', 'Statens Serum Institut', 'Hotel- og Restaurantskolen', 'Syddansk Universitet', 'Høje-Taastrup Kommune', 'Greve Kommune', 'Midt- og Vestjyllands Politi', 'Københavns Erhvervsakademi', 'ATP Ejendomme A/S', 'Favrskov Kommune', 'Rudersdal Kommune', 'Hørsholm Kommune', 'Ringsted Kommune', 'Forsvaret', 'Miljø- og Fødevareministeriet', 'Region Sjælland', 'Kommune Kujalleq', 'Midt- og Vestsjællands Politi', 'Kulturministeriets departement', 'Østjyllands Politi', 'Lolland Kommune', 'Nordfyns Kommune', 'Bornholms Regionskommune', 'Fredericia Kommune', 'Venstres Center for Kommunikation og Politik', 'Hvidovre Kommune', 'Skive Kommune', 'Faxe Kommune', 'Randers Kommune', 'Haderslev Kommune', 'Voldgiftsnævnet for Bygge- og Anlægsvirksomhed', 'Solrød Kommune', 'Grønlands retsvæsen / Retten i Grønland', 'Socialtilsyn Syd', 'Zealand – Sjællands Erhvervsakademi S/I', 'Statens IT', 'Danmarks Statistik', 'Forsvarsministeriets Auditørkorps', 'Sundheds- og Ældreministeriet', 'Beredskabsstyrelsen', 'Moderniseringsstyrelsen', 'ATP Ejendomme', 'Styrelsen for Patientklager', 'Patienterstatningen', 'Slagelse Kommune', 'Midt - og Vestsjællands Politi', 'Nordjyllands Politi', 'Struer Kommune', 'Tønder Kommune', 'Køge Kommune', 'Teleankenævnet', 'Region Hovedstadens Psykiatri', 'Aarhus Universitet', 'Transport-, Bygnings- og Boligministeriet', 'Børne- og Socialministeriet', 'Politiets Efterretningstjeneste (PET)', 'Gentofte Kommune', 'Statens Administration', 'Lejre Kommune', 'Rigsombudsmanden i Grønland', 'Forsvarets Auditørkorps', 'Aalborg Universitet', 'Miljø- og fødevareministeriet', 'Investeringsfonden for udviklingslande (IFU)', 'Færøernes Politi', 'Sydsjælland og Lolland-Falsters Politi', 'Morsø Kommune', 'Erhvervsakademi Aarhus', 'Arbejdsmarkedets Erhvervssikring', 'Sundhedsdatastyrelsen', 'Faaborg-Midtfyn Kommune', 'Det Kgl. Bibliotek', 'Mariagerfjord Kommune', 'Professionshøjskolen University College Nordjylland', 'VUC Syd', 'Erhvervsakademi Sjælland', 'SKAT', 'Ringkøbing-Skjern Kommune', 'Midt- og Vestjyllands Politi ', 'Energitilsynet', 'Sydøstjyllands Politi', 'University College Lillebælt', 'Hjemmeværnskommandoen', 'Viborg Kommune', 'Statens og Kommunernes Indkøbs Service A/S (SKI)', 'Professionshøjskolen Metropol', 'TV 2 Danmark A/S', 'Statens Byggeforskningsinstitut', 'VIA University College', 'University College Sjælland', 'Staten og Kommunernes Indkøbsservice', 'Den Europæiske Unions Domstol – dansk', 'Trafik- og Byggestyrelsen', 'Odsherred Kommune', 'Energinet.dk', 'Erhvervs- og Vækstministeriet', 'Ministeriet for børn, undervisning og ligestilling', 'Energi-, Forsynings- og Klimaministeriet', 'Etisk Nævn For Lægemiddelindustrien ApS', 'Region Nordjylland', 'Ankenævnet for Bus, Tog og Metro', 'Arbejdsskadestyrelsen', 'Eksport Kredit Fonden', 'Energiklagenævnet', 'Pengeinstitutankenævnet', 'Professionshøjskolen UCC', 'Transport- og Bygningsministeriet', 'Rødovre Kommune', 'Albertslund Kommune', 'Sorø Kommune', 'Rigsadvokaten', 'Etisk Nævn for Lægemiddelindustrien (ENLI)', 'KL - Kommunernes Landsforening', 'Styrelsen for Slotte og Kulturejendomme', 'Lejernes Landsorganisation Region Syd/Vestsjælland & Lolland-Falster', 'Aalborg Universitet Aalborg', 'Lemvig Kommune', 'Finansiel Stabilitet A/S', 'Fyns Politi', 'Kulturstyrelsen', 'ATP Real Estate', 'Erhvervsskolen Nordsjælland', 'Faxe og Stevns Kommune', 'Pakkerejse-Ankenævnet', 'Etisk Nævn for Lægemiddelindustrien', 'Slots- og Ejendomsstyrelsen', 'Økonomi- og Erhvervsministeriet', 'Roskilde Kommune', 'Konkurrencestyrelsen', 'Dansk Varefakta Nævn', 'Århus Kommune', 'SIMAC', 'Kulturministeriet', 'Grønlands Hjemmestyre', 'Ankenævnet for Huseftersyn', 'Nævnet for Selvjustits på Lægemiddelområdet', 'Naturklagenævnet', 'Statsforvaltningen Midtjylland', 'Jobcenter København - Skelbækgade', 'Miljøministeriet - Center for Koncernforvaltning', 'Ministeriet for Sundhed og Forebyggelse', 'Forsvarets Bygnings- og Etablissementstjeneste', 'Miljøministeriet – Miljøcenter Roskilde', 'Erhvervsakademi Midtjylland', 'Statsforvaltningen Syddanmark', 'Miljøministeriet - By- og Landskabsstyrelsen', 'Miljøministeriet - Kort & Matrikelstyrelsen', 'Rejse-Ankenævnet', 'Forsvarets Personeltjeneste', 'Miljøministeriet – By- og Landskabsstyrelsen', 'KommuneForsikring A/S', 'Københavns Tekniske Skole', 'Ministeriet for Fødevarer, Landbrug og Fiskeri, Direktoratet for FødevareErhverv', 'Naviair', 'Københavns Kommune, Miljøkontrollen', 'Jobcenter København']\n",
      "\n",
      "\n",
      "-------- Næste fremkommende er de private virksomheder medtaget i undersøgelsen --------\n",
      "\n",
      "\n",
      "['Telenor', 'Alm. Brand', 'PenSam', 'Danmarks Lærerforening', 'LB Forsikring', 'Newsec Property Asset Management Denmark A/S', 'Lægeforeningen', 'Tandlægeforeningen', 'Lind Advokataktieselskab', 'Dansk Psykolog Forening', 'THISTED KOMMUNE', 'Forsikring & Pension', 'AL Finans A/S', 'Mazanti-Andersen', 'ADVOSION', 'Topdanmark Forsikring og Pension', 'Vestjysk Bank A/S', 'KMD A/S', 'Rambøll', 'PFA', 'Plesner Advokatpartnerselskab', 'Parkzone A/S', 'Lundgrens Advokatpartnerselskab', 'BDO', ' A/S United Shipping & Trading Company', 'Erhvervshus Hovedstaden S/I', 'Dansk Energi', 'Zacco Denmark A/S', 'Netcompany', 'ComplyCloud ApS', 'Copenhagen Law Advokatfirma', 'NJORD Law Firm', 'Penta Advokater', 'Fleggaard Leasing', 'Horten Advokatpartnerselskab', ' KLA PERSONSKADE', 'DLA Piper', 'Moalem Weitemeyer Advokatpartnerselskab', 'Advodan Aalborg Advokataktieselskab', 'Lægernes Pension & Bank', 'Gjensidige Forsikring', 'Tryg Forsikring A/S', 'Lokal Forsikring', 'Accura Advokatpartnerselskab', 'SERVIA A.M.B.A.', 'AURA Energi', 'Kromann Reumert', 'Nykredit', 'Chas. Hude A/S', 'Salling Group', 'Krifa', 'Storstrøms Forsikring G/S', 'Advokaterne Kongevej 64 I/S', 'Lejernes LO Hovedstaden', 'Gorrissen Federspiel', 'CBRE A/S', 'Sydbank', 'Lejerbo', 'EuroIncasso ApS', 'Historiske Huse', 'Spillerforeningen', 'Poul Schmith/Kammeradvokaten', 'Fjordland', 'SamAqua', 'Deloitte', 'Weibel Scientific A/S', 'Miljømærkning Danmark', 'Nordea', 'TOFT Administration ApS', 'Intertrust Group Denmark', 'Fondsmæglerselskabet Investering og Tryghed A/S', 'Uddannelsesforbundet', 'PwC', 'Danske Bank', 'Vestforbrænding', 'Koncerncentre', 'Socialpædagogernes Landsforbund', 'Skau Reipurth & Partnere Advokatpartnerselskab', 'Nuuday', 'DAHL Advokatfirma', 'emendo consulting group', '3F', 'RESOLVA', 'Royal Unibrew A/S', 'Forsikringsforbundet', 'BIOFOS', 'Valdal Advokatfirma', 'Hartmanns A/S', 'Advokat Lone Damgaard Horup', 'Danske Dramatikere', 'FDM', 'Elmann Advokatpartnerselskab', 'Dansk Erhverv', 'Danfoss A/S', 'Falck Danmark A/S', 'GreenLab Skive A/S', 'Arnfred Advokatanpartsselskab', 'Pay-Back specialist rekruttering ApS', 'Eurowind Energy A/S', 'Lån & Spar Bank', 'Bird & Bird Advokatpartnerselskab', 'Cushman & Wakefield | RED', 'Elmer Advokater', 'Frie', 'Curia', 'Advokathuset Muurholm', 'Danmarks Restauranter & Caféer', 'LandboSyd', 'Teknologisk Institut', 'KFUKs Sociale Arbejde', 'Femern A/S', 'COWI', 'PostNord Danmark', 'DI Dansk Industri', 'Gadejuristen', 'Centrum Personale A/S', 'Sedgwick Leif Hansen A/S', 'CA a-kasse', 'Lexsos Advokater I/S', 'VKST I/S', 'Advokatfirmaet Jacob Christoffersen', 'Haugaard Braad Advokatpartnerselskab', 'NPV A/S', 'Gangsted Advokatfirma I/S', 'Dansk Metal', 'Den Sociale Virksomhed', 'Flyhjælp ApS', 'PROLEX Advokaterne ApS', 'Marsh A/S', 'Abena', 'Hjulmandkaptain Advokatpartnerselskab', 'Jobindex A/S', 'BESTSELLER', 'Leasing.dk A/S', 'Konstruktørforeningen', 'BUPL', 'Forbrugerrådet Tænk', 'Bruun & Hjejle Advokatpartnerselskab', 'Udviklingsselskabet By & Havn I/S', 'BankInvest', 'TDC Group', 'AVK Holding A/S', 'Advodan Helsingør', 'Danske Tandplejere', 'Fondsmæglerselskabet Maj Invest A/S', 'Advokatgruppen I/S', 'LOBPA', 'KPMG Acor Tax', 'Semler Gruppen', 'SMVdanmark', 'Red Barnet', 'Velliv', 'Pharma Nord', 'Rubinstein Law', 'If Skadeforsikring', 'Nymann HR', 'Telia Danmark', 'SEB', 'Atkins Danmark A/S', 'Flethøj Advokatpartnerselskab', 'NCC Danmark', 'Dansk Retursystem A/S', 'Landsforeningen for Bæredygtigt Landbrug', 'Academic Work', 'Nexus Advokater ApS', 'Andersen Partners Advokatfirma', 'FREJA Transport & Logistics A/S', 'Advokathuset Funch & Nielsen Advokatpartnerselskab', 'Advokatfirmaet Grotkjær Elmstrøm', 'LIFA A/S Landinspektører', 'Moment', 'Codan Forsikring A/S', 'Sammenslutningen Taxa 4x35', 'Clemens Advokatfirma', 'AP Pension', 'Djøf', 'GF Forsikring', 'Gensidig Forsikring', 'Hansen Toft A/S', 'Kereby ApS', 'Erhvervshus Midtjylland S/I', 'Eurofins NSC Danmark A/S', 'Familie Testamente', 'Implement Consulting Group A/S', 'Orifarm', 'Leoni Advokater', 'DreistStorgaard Advokater A/S', 'Ase', 'VKR Holding A/S', 'Servicemægleren A/S', 'Property Advice', 'Bugge Valentin Advokatpartnerselskab', 'SWE – Sven Westergaards Ejendomsadministration A/S', 'Dansk Institut For Internationale Studier (DIIS)', 'Ajour Advokater ApS', 'Genitor ApS', 'Norrbom Vinding I/S', 'Danske Andelskassers Bank A/S', 'Butikskompagniet ApS', 'Norlys', 'Hillerød Forsyning', 'Momeni Advokatfirma', 'Advokatfirmaet Kim Hansen', 'Rightly Law Firm', 'Sampension A/S', 'fsb', 'EjendomDanmark', 'Virum Torv Advokater ApS', 'Domea.dk', 'SOS International a/s', 'Settlementet på Vesterbro', 'HOFOR', 'Diakonissestiftelsen', 'AutoBranchen Danmark', 'FTFa', 'Torveadvokaterne', 'K.W. Bruun Import A/S', 'Arbejdernes Landsbank', 'Lund Elmer Sandager Advokatpartnerselskab', 'People Executive', 'Foldschack, Forchhammer, Dahlager & Barfod Advokatpartnerselskab', 'Forsyning Helsingør A/S', 'Nielsen og Østergaard Advokatfirma I/S', 'DAB', 'MOE A/S', 'Husen Advokater', \"KFUM's Sociale Arbejde\", 'Coop Danmark A/S', 'Boligadvokatkontoret ApS', 'Advokatfirmaet Burmeister I/S', 'Jeudan A/S', 'PATRADE A/S', 'HORESTA', 'HumanTrust A/S', 'Trafikselskabet Movia', 'Unique Human Capital', 'Systematic A/S', 'Arbejdernes Andels Boligforening, Århus', 'KPMG P/S', 'VIP Construction ApS', 'Aros Forsikring - Gensidigt Forsikringsselskab', 'IUNO', 'Dansk Journalistforbund', 'Danske Spil A/S', 'Dansk Flygtningehjælp', 'Dansk Sygeplejeråd', 'C&B Systemer A/S', 'tandlægen.dk', 'CASA A/S', 'DEAS', 'SPEKTRUM Advokater ApS', 'Cryos International – Denmark ApS', 'Flügger A/S', 'Nine United A/S', 'Miso Film', 'Alumeco A/S', 'T. Hansen Gruppen A/S', 'Magistrenes A-kasse', 'Birn & Partners ApS', 'UBVA-sekretariatet', 'Behandlingsrådet', 'KL', 'Jyske Bank', 'EDC', 'Interlex Advokater I/S', 'Sustainable Law', 'POWERCARE A/S', 'Ældre Sagen', 'Sønderjysk Forsikring', 'DK Hostmaster A/S', 'Danes Worldwide', 'Koda', 'Kielberg Advokater A/S', 'Andel Holding A/S', 'Toms Gruppen', 'KAB', 'Help Forsikring', 'Danner', 'Nyborg & Rørdam Advokatfirma P/S', 'ParsePort', 'LOS – Landsorganisationen for sociale tilbud', 'Danske Advokater', 'Gate 21', 'Publicure Advokatfirma P/S', 'Almue Retshjælpen', 'ADVODAN Lolland-Falster', 'Europæiske Rejseforsikring A/S', 'Kuben Management', 'Advokatfirmaet Strauss & Garlik I/S', 'Velkommen A/S', 'Avannaata Kommunia', 'Roesgaard', 'Normal A/S', 'Advokatfirmaet Lunøe og Schack Petersen I/S', 'TUR - Transporterhvervets Uddannelser', 'Hammer Andersen Sales Recruitment', 'DLG', 'Intertrust Denmark A/S', 'Dansk El-Forbund', 'e-handelsfonden', 'Det Faglige Hus', 'Mercuri Urval', 'Den Danske Dyrlægeforening', 'Sweco Danmark A/S', 'ISG Danmark', 'Brunata a/s', 'Dansk Boligforsikring A/S', '3', 'Saint-Gobain Distribution Denmark A/S', 'BO-VEST', 'EG A/S', 'Vind Advokatanpartsselskab', 'FOSS', 'GlobalConnect A/S', 'StudentConsulting Danmark ApS', 'Voldgiftsinstituttet', 'Bls Capital Fondsmæglerselskab A/S', 'Advokatfirmaet Kühnel P/S', 'BL - Danmarks Almene Boliger', 'Amgros I/S', 'Industriens Pension', 'Plexus Advokater ApS', 'Mine Arvinger ApS', 'Advokatfirmaet Magdalena Hoch', 'FSR – danske revisorer', 'Copenhagen Malmö Port', 'dentsu', 'Skov Advokater Advokataktieselskab', 'Kammeradvokaten/Advokatfirmaet Poul Schmith', 'Rovsing Advokater P/S', 'Kristeligt Dagblad', 'Familie Testamente ApS', 'SearchKompagniet', 'Boligforeningen AAB', 'Lundbeck', 'Legaldesk.dk ApS', 'Middelfart Sparekasse', 'Boligforeningen Århus Omegn', 'Resolva ApS', 'Djøf Forlag', 'fobu', 'Nordania Leasing', 'Dagrofa aps', 'DFIM', 'LØJE IP', 'Dansk Ejendomsmæglerforening', 'Advokatfirmaet Müller Advokatanpartsselskab', 'Per Aarsleff A/S', 'Nomeco A/S', 'nemlig.com', 'Tivoli A/S', 'PROSA, Forbundet af It-professionelle', 'DANA', 'Advokatanpartsselskabet Invictus', 'PMJ Advokater P/S', 'Advokatfirmaet Jerry Osbak', 'Dansk Frisør & Kosmetiker Forbund', 'P+, Pensionskassen for Akademikere', 'Center for Ledelse', 'PROLEX Advokaterne APS', 'Confidence Search ApS', 'Verdo', 'Wantzin Ejendomsadvokater Advokatanpartsselskab', 'TEKNIQ Arbejdsgiverne', 'ZBC', 'KOMBIT A/S', 'Finansforbundet', 'Kompetent', 'Kvadrat', 'EY', 'EDC Poul Erik Bech', 'Boligselskabet Sjælland', 'VILLUM FONDEN og VELUX FONDEN', 'Boligadministratorerne A/S', 'Copydan', 'DRACHMANN ADVOKATER', 'Landau Headhunting', 'Siemens A/S', 'Købstædernes Forsikring', 'Birch Ejendomme ApS', 'Jordan Løgstrup Advokatpartnerselskab', 'Arbejdsgiverforeningen KA', 'Santander Consumer Bank', 'PROLEX Advokaterne', 'IMPACT A/S', 'e-nettet A/S', 'Dansk Håndværk', 'Lærernes Pension', 'Sparekassen Sjælland-Fyn A/S', 'SEGES', 'e-Boks', 'A. Enggaard A/S, Entreprenør- og Byggefirma', 'Birkerød Advokater', 'Aalborg Portland', 'Züblin A/S', 'ProLøn A/S', 'Aalborg Energie Technik a/s', 'ELF Development A/S', 'Jobmægleren ApS', 'Kammeradvokaten', 'Extenso Inkasso', 'Casa Group', 'Randstad A/S', 'LEA Ejendomspartner', 'Advokatfirmaet Kromann Nielsen', 'Advokatfirmaet Müller advokatanpartsselskab', 'Frivilligcenter SR-Bistand', 'NOVASOL A/S', 'Blu A/S', 'Skovgaard Alsig Advokater Advokatanpartsselskab', 'Shared A/S', 'EL:CON A/S', 'Ørsted Group Functions', 'Advokatfirmaet Leidesdorff & Lund ApS', 'Advodan Slagelse I/S', 'Solar Danmark A/S', 'Boligkontoret Danmark', 'TryghedsGruppen', 'LOKALE PENGEINSTITUTTER', 'Finanssektorens Uddannelsescenter', 'Volkswagen Semler Finans Danmark A/S', 'Basisbank A/S', 'Roskilde Stiftskontor', 'Børnerådet', 'A-Kassen Frie', 'JPS Clemens A/S', 'Kræftens Bekæmpelse', 'Verdo A/S', 'POINTER A/S', 'IT Relation A/S', 'Spar Nord Bank A/S', 'Ledernes Hovedorganisation', 'Lidl Danmark K/S', 'Express Bank', 'AIG Europe', 'Metronome Productions A/S', 'Moalem Weitemeyer Bendtsen Advokatpartnerselskab', 'Formuepleje A/S', 'SAM International', 'Clever A/S', 'DSA – Din Sundhedsfaglige A-kasse', 'Sankt Lukas Stiftelsen', 'Advised by I/S', 'Pharmadanmark', 'Mazanti-Andersen Korsø Jensen', 'TN Udvikling A/S', 'Legal Denmark', 'Offersen & Christoffersen Advokatfirma', 'PeopleLink', 'BERG ADVOKATER ADVOKATANPARTSSELSKAB', 'LokalBolig Projekt ApS', 'FlexDanmark', 'Advokatfirmaet Himmerland ApS', 'Molt Wengel Advokatpartnerselskab', 'P+', 'Dansk Kiropraktor Forening', 'Visma', 'Nature Energy Biogas A/S', 'Megatrend Invest A/S', 'Anti Doping Danmark', 'Novafos A/S', 'Laigaard & Partners A/S', 'Sygeforsikringen \"danmark\"', 'BEC', 'PrivatBo', 'Varefakta', 'Niels Brock', 'Rejsekort & Rejseplan A/S', 'e-mærket', 'Dansk Byggeri', 'Den Jyske Sparekasse', 'Jordan & Løgstrup Advokatkommanditaktieselskab', 'Fødevareforbundet NNF', 'Momentum Consulting', 'SIRIUS advokater', 'Ringkjøbing Landbobank - Nordjyske Bank', 'Producentforeningen', 'Den Uvildige Konsulentordning på Handicapområdet', 'BUPL Sydjylland', 'Topdanmark Forsikring A/S', 'Gældshuset ApS', 'Advokatfirmaet Hviid & Frederiksen', 'BUPL Østjylland', 'SDC A/S', 'Kolonihaveforbundet', 'Arriva Danmark A/S', 'Gigtforeningen', 'Comentor A/S', 'ABF Andelsboligforeningernes Fællesrepræsentation', 'Berendsen Textil Service A/S', 'Express Bank A/S', 'Handelsbanken', 'vestjyskBANK', 'Bunker Holding A/S', 'Fagbevægelsens Hovedorganisation', 'FK Distribution A/S', 'Söderberg & Partners Forsikringsmæglere A/S', 'Comentum ApS', 'ERIK arkitekter A/S', 'factum2 as', 'Brugsforeningernes Arbejdsgiverforening', 'Advokatsamfundet', 'Grakom Arbejdsgivere', 'Praktiserende Lægers Organisation', 'expuri', 'Patriotisk Selskab', 'Landbrugsrådgivning Syd', 'Kleven & Partners Rekruttering ApS', 'Kemp & Lauritzen A/S', 'Bladt Industries A/S', 'ACEA Law Advokatanpartsselskab', 'Gefion Group', 'Finans Danmark', 'Edlund A/S', 'Advokatselskabet Per Jørgensen ApS', 'Computershare A/S', 'Frie Skolers Lærerforening', 'Nordjyllands Trafikselskab', 'KPMG', 'PrivatRevision', 'Mødrehjælpen', '3C RETAIL A/S', 'Collectia A/S', 'Colas Danmark A/S', 'Brinch & Partners', 'Better Energy Management A/S', 'Hafnia Law Firm', 'Danske Speditører', 'BUPL Nordsjælland', 'Ringkjøbing Landbobank', 'Vesterbro Retshjælp', 'Nemadvokat Advokatanpartsselskab', 'Psykiatri Plus A/S', 'Patrade A/S', 'ARK Advokatpartnerselskab', 'Hjerteforeningen', 'Advokatfirmaet.dk I/S', 'Holm og Partnere Advokater Anpartsselskab', 'TestaViva', 'Kamstrup A/S', 'Advokatfirmaet Malling & Hansen Damm I/S', 'The Financial Compliance Group A/S', 'Ikano Bank', 'INUITRecruitment ', 'BUPL Fyn', 'SEAS-NVE', 'Børns Vilkår', 'Birch Ejendomme', 'Bryggeriforeningen Faxehus', 'Advokat Per Thor Lassen', 'Aon Denmark A/S', 'Dansk Boldspil-Union (DBU)', 'Bedre Kredit ApS', 'HAY', 'Danske Medier Arbejdsgiver', 'DLR Kredit A/S', 'Advokatfirmaet Fink', 'Kvik A/S', 'Fleggaard Leasing A/S', 'Compass Human Resources Group A/S', 'Lokaltog A/S', 'Sparekassen Kronjylland', 'Promando A/S', 'FOA 1', 'KAR+CO', 'Ingeniørforeningen, IDA', 'FalckEkdahl ApS', 'Amnesty International', ' Sønder Ljørring', 'HSHansen A/S', 'Kolding Herreds Landbrugsforening', 'Advokaterne Bygum & Johnsen', 'Louise Find ApS', 'Agro Business Park A/S', 'UC SYD', 'Swipbox', 'North Advokatpartnerselskab', 'Nordic Transport Group A/S', 'Lou Advokatfirma P/S', 'IFPI Danmark', 'ADDEK ApS', 'Wunderman A/S', 'FORCE Technology', 'Advokatpartnerselskabet Kirk Larsen & Ascanius', 'Arbejdernes Andels Boligforening, Aarhus', 'HR Company ApS', 'Roesgaard & Partners Statsautoriseret Revisionspartnerselskab', 'LokalBolig Rødovre ApS', 'HRpeople', 'Basico P/S', 'Odsherreds Landboforening', 'IP Administration A/S', 'Create Denmark F.M.B.A.', 'Mazanti Andersen Korsø Jensen', 'Lassen Ricard Advokataktieselskab', 'Crawford & Company', 'F&H A/S', 'LIVSVÆRK', 'Pluss Leadership', 'MT Højgaard A/S', 'Veterinærsygeplejerskernes Fagforening', 'KIRKBI A/S', 'Hammer Andersen Sales Recruitment & Development', 'Newsec Datea A/S', 'Linde & Altschuler. Advokatanpartsselskab', 'Agrovi', 'VES Advokater', 'Likvido Inkasso ApS', 'HOMANN Advokaterne', 'FA09', '& friends', 'Konsulenthuset ballisager A/S', 'Advokatfirmaet Vingaardshus A/S', 'ETU Forsikring', 'VISDA', 'JUC Service Aps', 'Popermo Forsikring GS', 'STARK A/S', 'DANA - Arbejdsløshedskasse for selvstændige', 'Hviid Advokater A/S', 'Fairtestamente', 'CEJ Ejendomsadministration A/S', 'Storm Thygesen Advokatfirma', 'Københavns Lufthavne A/S', 'Markets & Corporate Law Nordic AB', 'Aller Media A/S', 'BHJ A/S', 'Nuna Advokater ApS', 'HansenGroup a/s', 'European Energy A/S', '360 North Management ApS', 'DSA - Din Sundhedsfaglige A-kasse', 'C. F. Møller A/S', 'Jutlander Bank A/S', 'Online HR ApS', 'Advodan Lyngby', 'Profilpartners', 'Domus Forsikring A/S', 'Euroincasso ApS', 'Advodan Thisted I/S', 'Nordisk Film Production A/S', 'Sonion A/S', 'Nordic Bioscience A/S', 'Sentia Danmark A/S', 'Trapez Rekruttering', 'Dansk Center for Undervisningsmiljø (DCUM)', 'Flyjura.dk ApS', 'ISS Facility Services A/S', 'Arbejdernes Andels-Boligforening', 'Roesgaard & Partners Statsautoriseret Revision', 'Danske Mediers Arbejdsgiverforening', 'Filmret ApS', 'WeCare Holding ApS', 'Rambøll Management Consulting', 'Arbejdsgiverne', 'Fleggaard Holding A/S', 'HR navigator', 'FOCUS ADVOKATER P/S', 'TVC Advokatfirma P/S', 'Klar Advokater P/S', 'DANSK HR', 'Ferrosan Medical Devices A/S', 'Business Broker A/S', 'Bertel Rasmussen Advokater', 'Otello Advokatanpartsselskab', 'FK Distribution', 'MP Pension - Pensionskassen For Magistre & Psykologer', 'Gaarn Thomsen & Partners A/S', 'Nymann Stærke HR', 'ITD, Brancheorganisation for Den Danske Vejgodstransport', 'Babcock & Wilcox Vølund A/S', 'Unik System Design A/S', 'Advokathus Nord I/S', 'Holst, Advokater', 'FIQTIV ApS', 'Kennedys Advokatpartnerselskab', 'Løje, Arnesen & Meedom Advokatpartnerselskab', 'LokalBolig Projektsalg Anette Uttenthal ApS', 'Better Energy A/S', 'Kristelig Fagbevægelse', 'C WorldWide Asset Management Fondsmæglerselskab A/S', 'TELLUS Advokater', 'MUUSMANN', 'MAN Diesel & Turbo', 'TRACK Management', 'ÅF', 'Bencke & Partners', 'Thy Mors Lærerkreds', 'Cobblestone Administrationshuset', 'Ejendomsforeningen Danmark', 'TEKNIQ Installationsbranchen', 'K2 Search ApS', 'Frie Funktionærer', 'Ældresagen', 'EWII A/S', '3 (Hi3G Danmark ApS)', 'Eniig', 'FinansDanmark', 'Kopenhagen Fur', 'Scanel International A/S', 'Bedre Psykiatri', 'E.ON Danmark A/S', 'DELACOUR', 'Spektrum Fondsmæglerselskab A/S', 'Dansk Supermarked', 'PKA', 'Atea A/S', 'BB Consulting', 'LindbergHR', 'Tolstrup & Hvilsted ApS', 'NEM Forsikring', 'Martinelli Advokatfirma', 'LEAD Rödl & Partner', 'SEF A/S', 'Advokat Henrik Hjortsholm', 'Boliggården', 'Alka Forsikring', 'Fibertex Personal Care', 'KPC', 'BUPL Århus', 'LEO Pharma', 'STORM Advokatfirma', 'UDENRIGSMINISTERIET', 'CSA CPH', 'peoplemover', 'Familie Testamente IVS', 'Advokatkompagniet A/S', 'Budde Schou A/S', 'RealMæglerne Reinholdt & Andersen ApS', 'Den danske Præsteforening', 'Milton Huse A/S', 'Søby & Partnere', 'Mercedes-Benz', 'Copydan Verdens TV', 'Energi- og olieforum', 'Vestjylland Forsikring', 'Awapatent A/S', 'Danmarks Lærerforening kreds 159', 'Hudson', 'GN Store Nord A/S', 'Nuna Advokater', 'Zibra A/S', 'Højland&Co', 'Advokaterne Foldschack & Forchhammer', 'Abel & Skovgård Larsen Advokatfirma', 'Nordisk Ministerråd', 'Dansk-Tysk Handelskammer', 'Bloom', 'Synch Advokatpartnerselskab', 'Glostrup', 'ATS Finans AB', 'Administrationshuset.dk', 'Ekspres Bank A/S', 'Intrum Justitia A/S', 'DONG Energy Group Functions', 'BL – Danmarks Almene Boliger', 'Danske Vandværker', 'Dansk Arbejdsgiverforening', 'DSV', 'Caverion A/S', 'Lisberg', 'Clio Online ApS', 'Kilden & Hindby ApS', 'Skov Advokater', 'Familieadvokat24', 'Himmerland Forsikring', 'PFA Pension', 'FOA', 'Eniig A.M.B.A.', 'Tellus Advokater ApS', 'Tjellesen Max Jenne A/S', 'I.B-L Holding A/S', 'Schouw & Co.', 'Advodan Aalborg A/S', 'Dansk Magisterforening', 'Forenede Danske Motorejere, FDM', 'TEKNIQ Installatørernes Organisation', 'Dansk Ungdoms Fællesråd (DUF)', 'Grundejernes Investeringsfond', 'August Jørgensen Advokater', 'Advokatanpartsselskabet Opus', 'Skandia Danmark', 'Silkeborg Retshjælp', 'Comcare A/S', 'Witt A/S', 'Whiteaway Group A/S', 'GLS Denmark A/S', 'Amalie Search & Selection', 'People Company', 'Boligrådgiver.dk', 'Søstrene Grene Import A/S', 'home Glostrup', 'FRONTPEOPLE A/S', 'MTG A/S', 'EDC Mæglerne Westermann', 'Callesen Consulting', 'Lars Rüger HR A/S', 'Dansk Golf Union', 'RED Property Advisers', 'Danica Pension', 'Danish Agro', 'KLA Personskade', 'Hansen & Thomsen Advokataktieselskab', 'Andersen Erhverv A/S', 'Andersen Partners Advokatpartnerselskab', 'Advokataktieselskabet Hjerrild & Bisgaard', 'Landbrug & Fødevarer', 'home', 'DATEA AS', 'Thomas Cook Airlines Scandinavia A/S', 'Kristelig Arbejdsgiverforening', 'Grubbe Advokater', 'Copenhagen Search Partners P/S', 'Lederne', 'Sandager Advokater v/Lars Sandager', 'Dansk Fjernvarme', 'Frie Funktionærers A-Kasse', 'Hays Specialist Recruitment A/S', 'LETT Advokatpartnerselskab', 'Jordan | Løgstrup Advokatpartnerselskab', 'Advokatfirmaet Ret & Råd Fyn A/S', 'BESTSELLER Recruitment', 'Semler Gruppen A/S', 'DANA - De selvstændiges A-kasse', 'Siemens Wind Power A/S', 'Advokat Torben Heding Andersen ApS', 'Curia Management', 'Plesner Advokatfirma', 'VP SECURITIES A/S', 'Kirkens Korshær', 'Gartneri-, Land- og Skovbrugets Arbejdsgivere', 'DANISH CROWN A/S', 'Den Miljøterapeutiske Organisation ApS', 'Gefion', 'til PFA Asset Management', 'Lokalbolig Helsingør/Espergærde ApS', '3C Retail A/S', 'Dansk Tandplejerforening', 'LO', 'UnikRecruitment ApS', 'Frederiksberg Forsyning', 'Nukissiorfiit', 'Boligadvokatkontoret Advokatanpartsselskab', 'ELMER Advokater', 'Dignity – Dansk Institut mod Tortur', 'Sadolin & Albæk A/S', 'Røde Kors asylafdeling', 'Bruun & Hjejle', 'Copydan Billeder', 'DANDERS & MORE', 'HMN Naturgas', 'Qaasuitsup Kommunia', 'AIMS International Danmark', 'Bluegarden A/S', 'Håndværksrådet', 'Nordea Bank Danmark A/S', 'AutoBranchens ArbejdsgiverForening', 'Advokaternes HR ApS', 'People & Performance A/S', 'Hedegaard Management Search & Select', 'Gefion Group K/S', 'Computershare', 'Folketeatret', 'Riskpoint A/S', 'DONG Energy Distribution & Customer Solutions', 'Advokatfirmaet Tommy V. Christiansen', 'Randstad', 'SORTH & CO', 'Dansk Bilbrancheråd', 'Peak Rekruttering', 'Tryg A/S', 'Prosa, Forbundet af It-professionelle', 'Indkøbsfællesskabet IFIRS', 'EBAS', 'Advokatfirmaet Muurholm ApS', 'Clemens Advokater', 'Sparekassen Sjælland', 'Nielsen Nørager Advokatpartnerselskab', 'Juhl Bach Holding', 'ADVODAN i Sydjylland', 'PostNord', 'Schneider Electric Danmark A/S', 'POULSEN', 'FTF-A', 'Bach Advokatpartnerselskab', 'Lundsgaard & Partnere', 'Advokatfirmaet Isaksen & Nomanni, København', 'Stohn & Partnere Advokatfirma', 'Dansk Mode & Textil', 'Lægeforeningen Domus Medica', 'Investeringsfondsbranchen', 'MTHP A/S', 'Kongsted & Thielsen', 'Bureau for Inatsisartut', 'Autobranchen Danmark', 'Danielsen Architecture A/S', 'Københavns Andelskasse', 'NIRAS', 'TREFOR', 'Bonnesen Advokater I/S', 'A/S Arbejdernes Landsbank', 'PS4 A/S', 'Finansrådet', 'Hellerup Finans A/S', 'FAF', 'By & Havn', 'Sagførerne', 'LEGO System A/S', 'Masai Clothing Company ApS', 'Midttrafik', 'Q8 Danmark A/S', 'Danmarks Rederiforening', 'Unipension I/S', 'Rønne & Lundgren Advokatpartnerselskab', 'TDC A/S', 'TEMP TEAM A/S', 'Unik System Design AS', 'Teracom A/S', 'Bech-Bruun', 'Østdansk Landboforening', 'Kongeegen A/S', 'NCB', 'JKS', 'Konsulenthuset ballisager a/s', 'Revisorernes HR', 'Samvirkende Menighedsplejer', 'Den Danske Naturfond', 'Nykredit Mægler A/S', 'Advokatanpartsselskabet Adduco', 'Dansk Kennel Klub', 'Hafnia Advokatfirma', 'JN Data A/S', 'Sønder Ljørring Advokatfirma', 'Advokat Asger Larsen', 'Advokatfirmaet Brandt og Lauritzen', 'Quick Care', 'Kromann Connect', 'L’EASY A/S', 'Heden & Fjorden', 'Advokat Henrik Bjørn Skaarup', 'DSA - Danske Sundhedsorganisationers Arbejdsløshedskasse', 'Beierholm - Statsautoriseret Revisionspartnerselskab', 'Dansk Skuespiller Forbund', 'UniqueConsult', 'KODA', 'De Samvirkende Købmænd', 'EnergiMidt A/S', 'DONG Energy Group', 'Funch & Nielsen Advokater', 'Agenda Advokater', 'Silkeborg Data', 'Tænketanken Justitia', 'Dansk Ride Forbund', 'ALLIANCE+', 'Akademikernes A-Kasse', 'Novo Nordisk A/S', 'DB Schenker Rail Scandinavia A/S', 'Frie Børnehaver og Fritidshjem', 'R. Færch Plast A/S', 'Danske Filminstruktører', 'pro&co', 'RS Consulting FZE', 'SBS Discovery Media', 'Mølholm HR Resursen', 'Arbejdernes Landsbank A/S', 'TEMP-TEAM A/S', 'Benzin- & Oliebranchens Arbejdsgiverforening', 'Rønne & Lundgren Advokatfirma', 'KUBEN Management A/S', 'Nets Denmark', 'Thorninger Advokat', 'Advokaterne Store Torv 16', 'NNIT A/S', 'Landsbrugsrådgivning Syd', 'Bird & Bird', 'FIH Erhvervsbank', 'Johan Schlüter Advokatfirma', 'Patrade Legal ApS', 'Judan advokater', 'CorpNordic Denmark A/S', 'Storm Advokatfirma', 'Plougmann & Vingtoft', 'Faf', 'DEIF A/S', 'Advokaterne C. C. Jørgensen & M. Winsløv ApS', 'Basico', 'IBM', 'Teknisk Landsforbund', 'A2SEA A/S', 'Advokatfirmaet Keld Pedersen og Jakob Kragh Karlsen ApS', 'Copydan BilledKunst', 'Naturgas Fyn', 'Advokatfirmaet Collectia', 'Akademikernes', 'Lokale Pengeinstitutter', 'Sabroe Selection', 'TOP-TOY', 'NOWACO A/S', 'Lægernes Pensionskasse', 'ØENS', 'ABB A/S', 'LINAK A/S', 'Boligadvokat24', 'Magistrenes Arbejdsløshedskasse', 'INTERLEX ADVOKATER', 'LeasePlan Danmark A/S', 'Arkitektgruppen A/S', 'Prolex', 'DANISH CROWN', 'InHouse Advokatfirma', 'Storm Advokatfirma I/S', 'PensionDanmark', 'Microsoft Danmark ApS', 'Team Consult', 'Dampskibsselskabet NORDEN A/S', 'DuPont Nutrition Biosciences ApS', 'House of Recruitment ', 'Advis A/S', 'Jyske Finans', 'MAQS Law Firm Advokataktieselskab', 'InvesteringsForeningsRådet', 'Jet Time A/S', 'Dahl & Bindeballe Advokater ApS', 'LyderJohnsen A/S', 'ACCURA', 'Advokatfirmaet Isaksen & Nomanni, København ApS', 'ASE', 'Danmarks Jægerforbund', \"Jensen's Bøfhus\", 'SAM Executive Search A/S', 'Videncentret for Landbrug', 'FRIE Funktionærer', 'BRFkredit', 'Willis Danmark', 'People Capital Partner', 'NOVI', 'InterCo Denmark ApS', 'Horten Advokatpartnerselskab ', 'Lett Advokatfirma', 'Advokaterne Arup & Hvidt', 'DONG Energy Oil & Gas', 'DI', 'Jordan | Løgstrup', 'Nimbus Film', 'Advodan', 'Tulip Food Company', 'Horten advokatfirma', 'Socialpædagogerne Østjylland', 'Advokatfirmaet BvHD', 'Insero Horsens', 'Athos Statsautoriseret Revisionsaktieselskab', 'SpeedRecruiters ApS', 'Kpc København A/S', 'Røde Kors Asylafdelingen', 'H. Lundbeck', 'Kost & Ernæringsforbundet', 'Rengøringsselskabernes Branche- og Arbejdsgiverforening (RSBA)', 'Widex A/S', 'BAE System Detica GCS A/S', 'Absalon Rekruttering ApS', 'GEA Process Engineering A/S', 'DPA-System', 'KOMPAN A/S', 'ITD', 'Bornholms Brandforsikring', 'BI Holding A/S', 'ECCO Sko A/S', 'Advokatpartnerselskabet Jordan & Løgstrup', 'Paragraf A/S', 'Juristernes & Økonomernes Pensionskasse (JØP)', 'NCC Construction Danmark A/S', 'LOS', 'O.W. Bunker & Trading A/S', 'DS Håndværk & Industri', 'Zealand Pharma A/S', 'Otello advokatfirma', 'DONG Energy Thermal Power', 'Pointer A/S', 'LIF', 'Deloitte Statsautoriseret Revisionspartnerselskab', 'DAHL ADVOKATFIRMA', 'Myhlenberg', 'Nordjysk Elhandel A/S', 'Advokathuset Viborg', 'Advokathuset Eegholm A/S', '2E Group A/S', 'Divisionsforeningen', 'Oticon', 'TEKNIQ', 'hansen | sønderby', 'Awapatent', 'Benzin- og Oliebranchens Arbejdsgiverforening', 'BankInvest Gruppen', 'Arla Foods', 'Boligselskabernes Landsforening', 'Career Country', 'Capacent People', 'ACCURA Administration Partnerselskab', 'MELDGAARD Advokatfirma', 'HDI-Gerling Forsikring', 'HJORT & FRØIK', 'Lind Cadovius Advokataktieselskab', 'LB Koncernen', 'Erwin Andersen a/s', 'DRACHMANN EJENDOMSADMINISTRATION A/S', 'Danske Commodities A/S', 'Sparinvest', 'Schmidt/Hammer/Lassen', 'TARGET Headhunting', 'Nybolig Erhverv Aarhus', 'Conduco', 'DELACOUR DANIA', 'Købmandstandens Inkasso Service A/S', 'SAS Group', 'Forenede Danske Antenneanlæg', 'SAS Institute A/S', 'Excellent Match Talentor', 'Manpower', 'Dansk Røde Kors Asylafdelingen', 'CT Offshore A/S', 'Trolle Advokatfirma, Advokatpartnerselskab', 'MUFF & PARTNERE ', 'Human Capital Group', 'Magnusson', 'Advokatfirmaet Hovmøller & Thorup', 'Dahl Advokatfirma', 'Seminarer.dk A/S', 'ETI A/S', 'IC Companys A/S', 'Vattenfall Vindkraft', 'Scandinavian Tobacco Group A/S', 'Skandia', 'EUC Nordvestsjælland', 'HR-BusinessPartner I/S', 'Advokathuset A/S', 'HandiGruppen A/S', 'AAB', 'Modulus ApS', 'ChoosEV A/S', 'Jobindex', 'Bender von Haller Dragsted', 'Aros Forsikring', 'MAN Diesel', 'Bestseller', 'Nets Denmark A/S', 'SPARBANK', 'ACCURA Advokatpartnerselskab', 'Carlsberg Danmark A/S', 'Deloitte Statsautoriseret Revisionsaktieselskab', 'Hays', 'PANDORA A/S', 'Dahl Advokataktieselskab', 'Wingmanager', 'Lokal Forsikring G/S', 'CSC', 'TDC', 'Danmarks Frisørmesterforening ', 'Deloitte A/S', 'Advokatkontakt.dk', 'Argus Advokater', 'Jyske Invest', 'Dansk Financia A/S', 'Lohff Management Consultants A/S', 'HTH', 'Plesner', 'Cosmos Group A/S', 'ServiceBureau ApS', 'Nobia Denmark A/S', 'VALDAL Advokatfirma', '3M a/s', 'Amstrup, Jung & Partnere Advokatfirma', 'Konica Minolta', 'Sjælsø A/S', 'Danske Svineproducenter', 'LandboMidtØst', 'Københavns Energi A/S', 'Amagerbanken', '3 (Hi3G Danmark Aps)', 'AVK International A/S', 'SEB A/S', 'SAM Headhunting', 'Adecco A/S', 'Direktoratet for FødevareErhverv', 'Advokathuset Mariager Fjord A/S', 'TrygVesta A/S', 'Lisberg Executive Search', 'Skykon A/S', 'PricewaterhouseCoopers', 'Unik Human Resources ', 'Promando', 'Advokatfirmaet Stohn & Partnere', 'ACCURA Advokataktieselskab', 'Amagerbanken A/S', 'Dahl & Kjærgaard HR ApS', 'Statoil A/S', 'Management United as', 'Lindorff', 'Capacent A/S', 'Arriva Skandinavien A/S', 'Domea', 'Nordisk Dæk Import A/S', 'DONG Energy S&D', 'Forbruger-Kontakt', 'GN Resound A/S', 'Nordea Invest', 'Det Konservative Folkeparti', 'Transcom CMS A/S', 'Akademikernes A-kasse', 'Proffice A/S', 'Atea Danmark A/S', 'Carlsberg A/S', 'HK/Danmark', 'Syddansk Teknologisk Innovation A/S', 'Advokatfirma Hjulmand & Kaptain', 'DONG Energy Power', 'Carnegie Bank A/S', 'NKT Holding A/S', 'Brabrand Boligforening', 'Novozymes A/S', 'Uhrenholt', 'C3 ledelse og økonomi', 'Forbrugerrådet', 'Læger uden Grænser (MSF)', 'MAQS Law Firm', 'FSP Pension', 'Post Danmark', 'DANSK METAL', 'Assistance Personaleservice', 'J. Lauritzen A/S', 'Danisco A/S', 'ihi Bupa', 'Fair Forsikring', 'MUFF & PARTNERE', 'Fionia Bank', 'Magnus Informatik A/S', 'Advodan Midt/Vest A/S', 'Dahl & Kjærgaard', 'NaN', 'Københavns Energi', 'Advokatfirmaet Jensbo & Høgh Rasmussen', 'Elmer & Partnere', 'Innovayt A/S', 'Finansrådets Hus', 'Flensby & Partners A/S', 'Lærerstandens Brandforsikring G/S', 'Retention A/S', 'Bank DnB NORD A/S', 'Copydan BilledeKunst', 'Dansk Internet Forum (DIFO)', 'Steen & Strøm Danmark A/S', 'Studerende Online', 'Rexholm', 'Netop', 'JobogLiv.dk', 'A.P. Møller - Mærsk A/S', 'NORSKER & CO ADVOKATER', 'Sonofon A/S', 'Columbus IT Partner Danmark A/S', 'Ho3', 'Gorrissen Federspiel Kierkegaard', 'Advokatfirmaet Hjortlund & Partnere', 'Vikar Match A/S', 'Adduco', 'adlex advokatanpartsselskab', 'Viltoft Høberg-Petersen', 'Vestas Wind Systems A/S', 'Jobii A/S', 'boligtilbolig.dk a/s', 'LETT Advokatfirma', 'Personale-Service A/S', 'Ernst & Young', 'CARAT Danmark', 'Midt Factoring A/S', 'Poolia Danmark A/S', 'HSH Nordbank', 'FLSmidth', 'Excellent Match A/S', 'Ingeniørforeningen i Danmark', 'VELUX A/S', 'Sonofon', 'Dong Energy Oil & Gas', 'Dansk Supermarked A/S', 'Bavarian Nordic A/S', 'DONG Energy', 'Phoenix Consulting Group a/s', 'Gyes & Oehlenschlæger', 'Erhvervsejendomme', 'Stakemann A/S', 'AIG Europe S.A.', 'Uldbjerg ApS', 'Dansk Industri', '3C GROUPS', 'HR Mæglerne', 'JUC', 'ISS A/S', 'Moment Kandidatrekruttering', 'Carlsberg Breweries A/S', 'Keops Development A/S', 'Ret og Råd', 'Forstædernes Bank A/S', 'Moment Studenterhjaelpen', 'Forskningscenter Risø', 'Martin Professional A/S', 'Realkreditrådet', 'ABN AMRO Asset Management', 'Stones Ejendomme A/S', 'Københavns Fængsler', 'home Erhverv', 'LandboCentrum', 'PLESNER SVANE GRØNBORG', 'Advokat Jesper Søgaard og advokat Thomas Hansen', 'adlex boligadvokater', 'IKU/Institut for Karriereudvikling', 'SAS Component Group A/S', 'Schibstad A/S', 'Aktiv Management', 'PayEx Collection A/S', 'C.V. Management', 'Leo Pharma', 'HTS Handel, Transport og Service', 'European Wind Farms A/S', 'GE Money Bank', 'strepa', 'Danmarks Idræts-Forbund', 'Dan-Aktiv A/S', 'NKT Flexibles I/S', 'De Forenede Ejendomsselskaber A/S', 'Totempo A/S', 'Skanska Danmark A/S', 'HHH Administration ApS', 'Carefarm A/S', 'SkandiaBanken', 'Realkredit Danmark']\n"
     ]
    }
   ],
   "source": [
    "# numpy.set_printoptions(threshold=sys.maxsize)\n",
    "\n",
    "#df['company'].unique().tolist()\n",
    "\n",
    "print(\"Offentlige virksomheder:\")\n",
    "off_virk = offentlig_data['company'].unique().tolist()\n",
    "print(len(off_virk))\n",
    "print(\"\\nPrivate virksomheder:\")\n",
    "priv_virk = privat_data['company'].unique().tolist()\n",
    "print(len(priv_virk))\n",
    "\n",
    "print(off_virk)\n",
    "print(\"\\n\")\n",
    "print(\"-------- Næste fremkommende er de private virksomheder medtaget i undersøgelsen --------\")\n",
    "print(\"\\n\")\n",
    "print(priv_virk)"
   ]
  },
  {
   "cell_type": "code",
   "execution_count": 86,
   "metadata": {},
   "outputs": [
    {
     "name": "stdout",
     "output_type": "stream",
     "text": [
      "294\n",
      "1333\n"
     ]
    },
    {
     "data": {
      "text/plain": [
       "1627"
      ]
     },
     "execution_count": 86,
     "metadata": {},
     "output_type": "execute_result"
    }
   ],
   "source": [
    "# antallet af virksomheder i alt\n",
    "print(len(off_virk))\n",
    "print(len(priv_virk))\n",
    "\n",
    "len(off_virk) + len(priv_virk)"
   ]
  },
  {
   "cell_type": "markdown",
   "metadata": {},
   "source": [
    "#### (1) Her gøres min data til to forskellige sammenhængende lister af ord for hhv. den offentlige og private sektor. "
   ]
  },
  {
   "cell_type": "code",
   "execution_count": 88,
   "metadata": {},
   "outputs": [],
   "source": [
    "# skaber den sammenhængende text \n",
    "\n",
    "\n",
    "offentlig_sammenhæng_text = \" \".join(job for job in offentlig_data.jobbeskrivelse)\n",
    "privat_sammenhæng_text = \" \".join(job for job in privat_data.jobbeskrivelse)\n",
    "\n",
    "# gør alt tekst til små bogstaver\n",
    "\n",
    "privat_små = \\\n",
    "     privat_sammenhæng_text.lower()\n",
    "     #.replace(\".\",\"\").replace(\",\",\"\").replace(\"\\n\", \" \").replace(\"-\")\n",
    "\n",
    "offentlig_små = offentlig_sammenhæng_text.lower()\n",
    "    #.replace(\".\",\"\").replace(\",\",\"\").replace(\"\\n\", \" \")\n",
    "\n",
    "# fjerner tegnsætning og tal\n",
    "\n",
    "offentlig_u_tegnsætning = offentlig_små.translate(str.maketrans('', '', string.punctuation))\n",
    "offentlig_clean = offentlig_u_tegnsætning.translate(str.maketrans('', '', string.digits))\n",
    "\n",
    "privat_u_tegnsætning = privat_små.translate(str.maketrans('', '', string.punctuation))\n",
    "privat_clean = privat_u_tegnsætning.translate(str.maketrans('', '', string.digits))\n",
    "\n"
   ]
  },
  {
   "cell_type": "code",
   "execution_count": 89,
   "metadata": {
    "scrolled": false
   },
   "outputs": [],
   "source": [
    "# fjerner stopwords\n",
    "stop_words  =\\\n",
    "    requests\\\n",
    "        .get(\"https://gist.githubusercontent.com/berteltorp/0cf8a0c7afea7f25ed754f24cfc2467b/raw/305d8e3930cc419e909d49d4b489c9773f75b2d6/stopord.txt\")\\\n",
    "        .text \\\n",
    "        .split()\n",
    "\n",
    "\n",
    "# manuel liste af stopwords\n",
    "stop_words_manual = [\"–\", \"mv\", \"”\", \"’\", \"bla\",\"'\",\"-\"]\n",
    "\n",
    "stop_words.extend(stop_words_manual)\n",
    "\n"
   ]
  },
  {
   "cell_type": "code",
   "execution_count": 90,
   "metadata": {},
   "outputs": [],
   "source": [
    "# her skabes min lemmatizer\n",
    "lemmatize =\\\n",
    "    lambda word: lemmy\\\n",
    "        .load(\"da\")\\\n",
    "        .lemmatize(\"\", word)[0]"
   ]
  },
  {
   "cell_type": "code",
   "execution_count": 92,
   "metadata": {},
   "outputs": [
    {
     "name": "stdout",
     "output_type": "stream",
     "text": [
      "Ord fra private organisationers jobbeskrivelser:\n",
      "294874\n",
      "Ord fra offentlige organisationers jobbeskrivelser:\n",
      "252714\n"
     ]
    }
   ],
   "source": [
    "# FÆRDIG MED AT LAVE TO FORSKELLIGE ORD-LISTER UDEN SKELNING TIL UNIKKE JOBANNONCER \n",
    "\n",
    "#Her laver du Tokenization og Lemmatization\n",
    "\n",
    "# Tokenization (og stop words)\n",
    "\n",
    "privat_tokens = [word for word in nltk.word_tokenize(privat_clean) if word not in stop_words]\n",
    "\n",
    "offentlig_tokens = [word for word in nltk.word_tokenize(offentlig_clean) if word not in stop_words]\n",
    "\n",
    "# Lemmatization\n",
    "\n",
    "privat_done_fluid = [lemmatize(word) for word in privat_tokens]\n",
    "\n",
    "offentlig_done_fluid = [lemmatize(word) for word in offentlig_tokens]\n",
    "\n",
    "# finder antal ord indenfor hver sektor\n",
    "print(\"Ord fra private organisationers jobbeskrivelser:\")\n",
    "print(len(privat_done_fluid))\n",
    "print(\"Ord fra offentlige organisationers jobbeskrivelser:\")\n",
    "print(len(offentlig_done_fluid))"
   ]
  },
  {
   "cell_type": "markdown",
   "metadata": {},
   "source": [
    "#### (2) Herunder skaber jeg et datasæt hvori de unikke jobannoncer kan identificeres. Dette gør, at jeg fx kan finde en procentandel af brugen af PSM:"
   ]
  },
  {
   "cell_type": "code",
   "execution_count": 93,
   "metadata": {},
   "outputs": [],
   "source": [
    "# Her skabes en analyserbar version af hele datamaterialet, samlet. \n",
    "\n",
    "#gjort små og fjerner \\n\n",
    "text_små = \\\n",
    "     all_text.str.lower().str.replace(\"\\n\", \" \")\n",
    "\n",
    "# # fjerner tegnsætning og tal\n",
    "text_u_tegnsætning = text_små.str.translate(str.maketrans('', '', string.punctuation))\n",
    "text_clean = text_u_tegnsætning.str.translate(str.maketrans('', '', string.digits))\n",
    "\n",
    "# # fjerner stop words\n",
    "text_u_stop = text_clean.apply(lambda x: ' '.join([word for word in x.split() if word not in (stop_words)]))\n",
    "\n",
    "# # Tokenization\n",
    "text_tokens = text_u_stop.apply(nltk.word_tokenize)\n",
    "\n",
    "# # Lemmatization \n",
    "text_done = text_tokens.apply(lambda lst:[lemmatize(word) for word in lst])\n",
    "\n",
    "df_done = pd.concat([df.company, text_done, df.offentlig], axis=1)\n",
    "           "
   ]
  },
  {
   "cell_type": "code",
   "execution_count": 94,
   "metadata": {},
   "outputs": [],
   "source": [
    "# deler vores df_done op i hhv. private og offentlige beskrivelser\n",
    "\n",
    "privat_done = df_done[df_done[\"offentlig\"]==0]\n",
    "offentlig_done = df_done[df_done[\"offentlig\"]==1]\n"
   ]
  },
  {
   "cell_type": "code",
   "execution_count": 95,
   "metadata": {
    "scrolled": true
   },
   "outputs": [],
   "source": [
    "# den fulde df uden ovenstående sample\n",
    "# df_done_final = df_done[~df_done.index.isin(df_sample.index)] OBS - DETTE ER GJORT FOROVEN\n",
    "\n",
    "samlet_antal_off = len(df.loc[df['offentlig'] == 1])\n",
    "samlet_antal_priv = len(df.loc[df['offentlig'] == 0])\n"
   ]
  },
  {
   "cell_type": "markdown",
   "metadata": {},
   "source": [
    "### Søge sekventielt efter forekomsten af ord (PSM-indikatorer): "
   ]
  },
  {
   "cell_type": "code",
   "execution_count": 96,
   "metadata": {},
   "outputs": [],
   "source": [
    "# Vi vil gerne kunne se alle ord i cellerne\n",
    "pd.set_option('display.max_colwidth', None)\n"
   ]
  },
  {
   "cell_type": "markdown",
   "metadata": {},
   "source": [
    "#### Attraction to public policy making:"
   ]
  },
  {
   "cell_type": "code",
   "execution_count": 97,
   "metadata": {},
   "outputs": [
    {
     "name": "stdout",
     "output_type": "stream",
     "text": [
      "Den offentlige procentandel:\n",
      "45.21664521664522\n",
      "Den private procentandel:\n",
      "24.995611725469548\n"
     ]
    }
   ],
   "source": [
    "# Attraction to public policy making\n",
    "# fortolke dele\n",
    "\n",
    "#overvej om denne dimemsion er lidt for bredt defineret i din ordbog\n",
    "\n",
    "verber_adjektiver_atp = \"skabe|fortolke|dele|tilhøre|forbinde|tilfredsstille|gavn|involvere|interessere|politisk|attraktiv|bryde|lide|høj|positiv\"\n",
    "substantiver_atp = \"lov|land|fællesskab|holdning|program|gavn|menneske|politik|politisk|spil|tanke\"\n",
    "\n",
    "\n",
    "#Den første søgning efter verber og adjektiver\n",
    "verber_adjektiver_atp_off = offentlig_done[offentlig_done['jobbeskrivelse'].astype(str).str.contains(verber_adjektiver_atp)]\n",
    "verber_adjektiver_atp_priv = privat_done[privat_done['jobbeskrivelse'].astype(str).str.contains(verber_adjektiver_atp)]\n",
    "\n",
    "#sekventiel søgning efter substantiver\n",
    "alle_ordklasser_atp_off = verber_adjektiver_atp_off[verber_adjektiver_atp_off['jobbeskrivelse'].astype(str).str.contains(substantiver_atp)]\n",
    "alle_ordklasser_atp_priv = verber_adjektiver_atp_priv[verber_adjektiver_atp_priv['jobbeskrivelse'].astype(str).str.contains(substantiver_atp)]\n",
    "\n",
    "#udregner den offentlige andel\n",
    "quotient = len(alle_ordklasser_atp_off) / samlet_antal_off \n",
    "\n",
    "percent = quotient * 100\n",
    "\n",
    "print(\"Den offentlige procentandel:\")\n",
    "print(percent)\n",
    "\n",
    "#udregner den private andel\n",
    "quotient = len(alle_ordklasser_atp_priv) / samlet_antal_priv\n",
    "\n",
    "percent = quotient * 100\n",
    "\n",
    "print(\"Den private procentandel:\")\n",
    "print(percent)\n",
    "\n",
    "# her indsættes attraction to public policy i df'en som binær-variabel\n",
    "atp_index = [i for i in alle_ordklasser_atp_off.index]\n",
    "atp_index.extend([i for i in alle_ordklasser_atp_priv.index])\n",
    "\n",
    "df_done['ATP'] = df_done.index.map(lambda x : 1 if x in atp_index else 0)"
   ]
  },
  {
   "cell_type": "markdown",
   "metadata": {},
   "source": [
    "#### Commitment to the public interest:"
   ]
  },
  {
   "cell_type": "code",
   "execution_count": 98,
   "metadata": {},
   "outputs": [
    {
     "name": "stdout",
     "output_type": "stream",
     "text": [
      "Den offentlige procentandel:\n",
      "19.81981981981982\n",
      "Den private procentandel:\n",
      "9.461119887660171\n"
     ]
    }
   ],
   "source": [
    "\n",
    "verber_adjektiver_cpi = \"bidrage|gavne|tjene|god|meningsfuld|vigtig|uselvisk|fælles|hel\"\n",
    "substantiver_cpi = \"borger|pligt|samfund|dyd|interesse|ydelse|ansat\"\n",
    "\n",
    "# Den første søgning efter verber og adjektiver blandt hhv. offentlig og private jobbeskrivelser\n",
    "verber_adjektiver_cpi_off = offentlig_done[offentlig_done['jobbeskrivelse'].astype(str).str.contains(verber_adjektiver_cpi)]\n",
    "verber_adjektiver_cpi_priv = privat_done[privat_done['jobbeskrivelse'].astype(str).str.contains(verber_adjektiver_cpi)]\n",
    "\n",
    "# sekventiel søgning efter substantiver i det netop fremsøgte materiale\n",
    "alle_ordklasser_cpi_off = verber_adjektiver_cpi_off[verber_adjektiver_cpi_off['jobbeskrivelse'].astype(str).str.contains(substantiver_cpi)]\n",
    "alle_ordklasser_cpi_priv = verber_adjektiver_cpi_priv[verber_adjektiver_cpi_priv['jobbeskrivelse'].astype(str).str.contains(substantiver_cpi)]\n",
    "\n",
    "#udregner den offentlige andel\n",
    "quotient = len(alle_ordklasser_cpi_off) / samlet_antal_off \n",
    "\n",
    "percent = quotient * 100\n",
    "\n",
    "print(\"Den offentlige procentandel:\")\n",
    "print(percent)\n",
    "\n",
    "#udregner den private andel\n",
    "quotient = len(alle_ordklasser_cpi_priv) / samlet_antal_priv\n",
    "\n",
    "percent = quotient * 100\n",
    "\n",
    "print(\"Den private procentandel:\")\n",
    "print(percent)\n",
    "\n",
    "# her indsættes commitment to public interest i datasættet som binær variabel\n",
    "cpi_index = [i for i in alle_ordklasser_cpi_off.index]\n",
    "cpi_index.extend([i for i in alle_ordklasser_cpi_priv.index])\n",
    "\n",
    "df_done['CPI'] = df_done.index.map(lambda x : 1 if x in cpi_index else 0)\n",
    "\n",
    "# df_done[df_done['CPI']==1]"
   ]
  },
  {
   "cell_type": "markdown",
   "metadata": {},
   "source": [
    "#### Compassion: "
   ]
  },
  {
   "cell_type": "code",
   "execution_count": 99,
   "metadata": {},
   "outputs": [
    {
     "name": "stdout",
     "output_type": "stream",
     "text": [
      "Den offentlige procentandel:\n",
      "6.263406263406264\n",
      "Den private procentandel:\n",
      "2.9313673863436898\n"
     ]
    }
   ],
   "source": [
    "\n",
    "verber_adjektiver_com = \"blive|føle|behandle|følelsesmæssig|berørt|følsom|afhængig|retfærdig|mindre\"\n",
    "substantiver_com = \"nød|sympati|afhængig|menneske|hensyn|velfærd|problem|fremmed|privilegie\"\n",
    "\n",
    "# Den første søgning efter verber og adjektiver blandt hhv. offentlig og private jobbeskrivelser\n",
    "verber_adjektiver_com_off = offentlig_done[offentlig_done['jobbeskrivelse'].astype(str).str.contains(verber_adjektiver_com)]\n",
    "verber_adjektiver_com_priv = privat_done[privat_done['jobbeskrivelse'].astype(str).str.contains(verber_adjektiver_com)]\n",
    "\n",
    "# sekventiel søgning efter substantiver i det netop fremsøgte materiale\n",
    "alle_ordklasser_com_off = verber_adjektiver_com_off[verber_adjektiver_com_off['jobbeskrivelse'].astype(str).str.contains(substantiver_com)]\n",
    "alle_ordklasser_com_priv = verber_adjektiver_com_priv[verber_adjektiver_com_priv['jobbeskrivelse'].astype(str).str.contains(substantiver_com)]\n",
    "\n",
    "#udregner den offentlige andel\n",
    "quotient = len(alle_ordklasser_com_off) / samlet_antal_off \n",
    "\n",
    "percent = quotient * 100\n",
    "\n",
    "print(\"Den offentlige procentandel:\")\n",
    "print(percent)\n",
    "\n",
    "#udregner den private andel\n",
    "quotient = len(alle_ordklasser_com_priv) / samlet_antal_priv\n",
    "\n",
    "percent = quotient * 100\n",
    "\n",
    "print(\"Den private procentandel:\")\n",
    "print(percent)\n",
    "\n",
    "# her indsættes commitment to public interest i datasættet som binær variabel\n",
    "com_index = [i for i in alle_ordklasser_com_off.index]\n",
    "com_index.extend([i for i in alle_ordklasser_com_priv.index])\n",
    "\n",
    "df_done['COM'] = df_done.index.map(lambda x : 1 if x in com_index else 0)\n",
    "\n",
    "# df_done[df_done['COM']==1]"
   ]
  },
  {
   "cell_type": "markdown",
   "metadata": {},
   "source": [
    "#### Self-sacrifice:"
   ]
  },
  {
   "cell_type": "code",
   "execution_count": 100,
   "metadata": {},
   "outputs": [
    {
     "name": "stdout",
     "output_type": "stream",
     "text": [
      "Den offentlige procentandel:\n",
      "30.60918060918061\n",
      "Den private procentandel:\n",
      "19.747235387045812\n"
     ]
    }
   ],
   "source": [
    "# self-sacrifice\n",
    "\n",
    "verber_adjektiver_ss = \"gøre|give|yde|risikere|hjælpe|tilsidesætte|tjene|ofre|bidrage|god|personlig|uselvisk\"\n",
    "substantiver_ss = \"forskel|pligt|gerning|samfund|skyld|tab|behov|borger|pligt|afsavn|hensyn|følelse\"\n",
    "\n",
    "# til analyse : overvej, at disse ord også kan være relevante at signalere for private virksomheder (e.g. de skal også give mening til ansatte), der er den så høj\n",
    "\n",
    "# Den første søgning efter verber og adjektiver blandt hhv. offentlig og private jobbeskrivelser\n",
    "verber_adjektiver_ss_off = offentlig_done[offentlig_done['jobbeskrivelse'].astype(str).str.contains(verber_adjektiver_ss)]\n",
    "verber_adjektiver_ss_priv = privat_done[privat_done['jobbeskrivelse'].astype(str).str.contains(verber_adjektiver_ss)]\n",
    "\n",
    "# sekventiel søgning efter substantiver i det netop fremsøgte materiale\n",
    "alle_ordklasser_ss_off = verber_adjektiver_ss_off[verber_adjektiver_ss_off['jobbeskrivelse'].astype(str).str.contains(substantiver_ss)]\n",
    "alle_ordklasser_ss_priv = verber_adjektiver_ss_priv[verber_adjektiver_ss_priv['jobbeskrivelse'].astype(str).str.contains(substantiver_ss)]\n",
    "\n",
    "# udregner den offentlige andel\n",
    "quotient = len(alle_ordklasser_ss_off) / samlet_antal_off \n",
    "\n",
    "percent = quotient * 100\n",
    "\n",
    "print(\"Den offentlige procentandel:\")\n",
    "print(percent)\n",
    "\n",
    "#udregner den private andel\n",
    "quotient = len(alle_ordklasser_ss_priv) / samlet_antal_priv\n",
    "\n",
    "percent = quotient * 100\n",
    "\n",
    "print(\"Den private procentandel:\")\n",
    "print(percent)\n",
    "\n",
    "# her indsættes commitment to public interest i datasættet som binær variabel\n",
    "ss_index = [i for i in alle_ordklasser_ss_off.index]\n",
    "ss_index.extend([i for i in alle_ordklasser_ss_priv.index])\n",
    "\n",
    "df_done['SS'] = df_done.index.map(lambda x : 1 if x in ss_index else 0)\n",
    "\n",
    "# df_done[df_done['SS']==1]\n"
   ]
  },
  {
   "cell_type": "markdown",
   "metadata": {},
   "source": [
    "### Signifikanstest af ovenstående forskel:"
   ]
  },
  {
   "cell_type": "code",
   "execution_count": 61,
   "metadata": {},
   "outputs": [],
   "source": [
    "# t-test - hvis hver \"psm-indikator\" markeres med en kolonne, med enten 0 eller 1\n",
    "\n",
    "from scipy.stats import ttest_ind\n",
    "\n",
    "off = df_done[df_done['offentlig']==1]\n",
    "priv = df_done[df_done['offentlig']==0]"
   ]
  },
  {
   "cell_type": "code",
   "execution_count": 46,
   "metadata": {},
   "outputs": [
    {
     "name": "stdout",
     "output_type": "stream",
     "text": [
      "0.00000000000000000000000000000000000000000000000000\n"
     ]
    }
   ],
   "source": [
    "# attraction to public policy, t-test\n",
    "\n",
    "ttest_atp = ttest_ind(off['ATP'], priv['ATP']).pvalue\n",
    "\n",
    "output_atp = f\"{ttest_atp:.50f}\"\n",
    "print(output_atp)\n"
   ]
  },
  {
   "cell_type": "code",
   "execution_count": 47,
   "metadata": {},
   "outputs": [
    {
     "name": "stdout",
     "output_type": "stream",
     "text": [
      "0.00000000000000000000000000000000000000000000001903\n"
     ]
    }
   ],
   "source": [
    "# commitment to public interest, t-test\n",
    "\n",
    "ttest_cpi = ttest_ind(off['CPI'], priv['CPI']).pvalue\n",
    "\n",
    "output_cpi = f\"{ttest_cpi:.50f}\"\n",
    "\n",
    "print(output_cpi)"
   ]
  },
  {
   "cell_type": "code",
   "execution_count": 48,
   "metadata": {},
   "outputs": [
    {
     "name": "stdout",
     "output_type": "stream",
     "text": [
      "0.00000000000023606094513038132098556729756569103952\n"
     ]
    }
   ],
   "source": [
    "# compassion, t-test\n",
    "\n",
    "ttest_com = ttest_ind(off['COM'], priv['COM']).pvalue\n",
    "\n",
    "output_com = f\"{ttest_com:.50f}\"\n",
    "\n",
    "print(output_com)\n"
   ]
  },
  {
   "cell_type": "code",
   "execution_count": 60,
   "metadata": {},
   "outputs": [
    {
     "name": "stdout",
     "output_type": "stream",
     "text": [
      "0.00000000000000000000000000000019468582947709186240\n"
     ]
    }
   ],
   "source": [
    "# self-sacrifice, t-test\n",
    "\n",
    "ttest_ss = ttest_ind(off['SS'], priv['SS']).pvalue\n",
    "\n",
    "output_ss = f\"{ttest_ss:.50f}\"\n",
    "\n",
    "print(output_ss)"
   ]
  },
  {
   "cell_type": "markdown",
   "metadata": {},
   "source": [
    "### Forsøg på at finde ekstrinsiske indikatorer:"
   ]
  },
  {
   "cell_type": "markdown",
   "metadata": {},
   "source": [
    "##### Ydre motivation: materiel"
   ]
  },
  {
   "cell_type": "code",
   "execution_count": 101,
   "metadata": {},
   "outputs": [],
   "source": [
    "ydre_mot_verber_adj = \"tilbyde|attraktiv|høj|konkurrencedygtig|stor|god\"\n",
    "ydre_mot_sub = \"løn|personalegode|bonus\"\n",
    "\n",
    "# offentlig_done[offentlig_done['jobbeskrivelse'].astype(str).str.contains(\"løn|personalegode|bonus\")]\n",
    "# privat_done[privat_done['jobbeskrivelse'].astype(str).str.contains(\"tillæg|vederlag\")]"
   ]
  },
  {
   "cell_type": "code",
   "execution_count": 104,
   "metadata": {},
   "outputs": [
    {
     "name": "stdout",
     "output_type": "stream",
     "text": [
      "Den offentlige procentandel:\n",
      "1.522951522951523\n",
      "Den private procentandel:\n",
      "3.598385114972793\n"
     ]
    }
   ],
   "source": [
    "# først søger jeg efter verber og adjektiver\n",
    "\n",
    "priv_mot_verber_adj = privat_done[privat_done['jobbeskrivelse'].astype(str).str.contains(ydre_mot_verber_adj)]\n",
    "off_mot_verber_adj = offentlig_done[offentlig_done['jobbeskrivelse'].astype(str).str.contains(ydre_mot_verber_adj)]\n",
    "\n",
    "# herefter søger jeg efter substantiver\n",
    "\n",
    "priv_ydre_mot_mate = priv_mot_verber_adj[priv_mot_verber_adj['jobbeskrivelse'].astype(str).str.contains(ydre_mot_sub)]\n",
    "off_ydre_mot_mate = off_mot_verber_adj[off_mot_verber_adj['jobbeskrivelse'].astype(str).str.contains(ydre_mot_sub)]\n",
    "\n",
    "\n",
    "# udregner den offentlige andel\n",
    "quotient = len(off_ydre_mot_mate) / samlet_antal_off \n",
    "\n",
    "percent = quotient * 100\n",
    "\n",
    "print(\"Den offentlige procentandel:\")\n",
    "print(percent)\n",
    "\n",
    "#udregner den private andel\n",
    "quotient = len(priv_ydre_mot_mate) / samlet_antal_priv\n",
    "\n",
    "percent = quotient * 100\n",
    "\n",
    "print(\"Den private procentandel:\")\n",
    "print(percent)\n",
    "\n",
    "\n",
    "# her indsættes monetært incitament i datasættet som binær variabel\n",
    "mi_index = [i for i in off_ydre_mot_mate.index]\n",
    "mi_index.extend([i for i in priv_ydre_mot_mate.index])\n",
    "\n",
    "df_done['MI'] = df_done.index.map(lambda x : 1 if x in mi_index else 0)\n",
    "\n"
   ]
  },
  {
   "cell_type": "code",
   "execution_count": 65,
   "metadata": {},
   "outputs": [
    {
     "name": "stdout",
     "output_type": "stream",
     "text": [
      "0.00000000000962318588658014684851984598159527119904\n"
     ]
    }
   ],
   "source": [
    "# monetært incitament, t-test\n",
    "\n",
    "ttest_øi = ttest_ind(off['ØI'], priv['ØI']).pvalue\n",
    "\n",
    "output_øi = f\"{ttest_øi:.50f}\"\n",
    "\n",
    "print(output_øi)"
   ]
  },
  {
   "cell_type": "code",
   "execution_count": 103,
   "metadata": {},
   "outputs": [
    {
     "name": "stdout",
     "output_type": "stream",
     "text": [
      "Jobbeskrivelserne:\n",
      "count    10359.000000\n",
      "mean        53.043923\n",
      "std         10.827587\n",
      "min          8.000000\n",
      "25%         47.000000\n",
      "50%         54.000000\n",
      "75%         61.000000\n",
      "max        101.000000\n",
      "dtype: float64\n",
      "\n",
      "Resten af variablerne:\n",
      "          offentlig           ATP           CPI           COM            SS  \\\n",
      "count  10359.000000  10359.000000  10359.000000  10359.000000  10359.000000   \n",
      "mean       0.450043      0.340960      0.141230      0.044309      0.246356   \n",
      "std        0.497522      0.474055      0.348275      0.205791      0.430909   \n",
      "min        0.000000      0.000000      0.000000      0.000000      0.000000   \n",
      "25%        0.000000      0.000000      0.000000      0.000000      0.000000   \n",
      "50%        0.000000      0.000000      0.000000      0.000000      0.000000   \n",
      "75%        1.000000      1.000000      0.000000      0.000000      0.000000   \n",
      "max        1.000000      1.000000      1.000000      1.000000      1.000000   \n",
      "\n",
      "                 ØI  \n",
      "count  10359.000000  \n",
      "mean       0.026643  \n",
      "std        0.161047  \n",
      "min        0.000000  \n",
      "25%        0.000000  \n",
      "50%        0.000000  \n",
      "75%        0.000000  \n",
      "max        1.000000  \n"
     ]
    }
   ],
   "source": [
    "# Opsummerende statistik\n",
    "\n",
    "summary = [len(x) for x in df_done.jobbeskrivelse]\n",
    "\n",
    "mySeries = pd.Series(summary) \n",
    "\n",
    "print(\"Jobbeskrivelserne:\")\n",
    "print(mySeries.describe())\n",
    "\n",
    "print(\"\\nResten af variablerne:\")\n",
    "print(df_done.describe())"
   ]
  }
 ],
 "metadata": {
  "kernelspec": {
   "display_name": "Python 3",
   "language": "python",
   "name": "python3"
  },
  "language_info": {
   "codemirror_mode": {
    "name": "ipython",
    "version": 3
   },
   "file_extension": ".py",
   "mimetype": "text/x-python",
   "name": "python",
   "nbconvert_exporter": "python",
   "pygments_lexer": "ipython3",
   "version": "3.8.5"
  }
 },
 "nbformat": 4,
 "nbformat_minor": 4
}
